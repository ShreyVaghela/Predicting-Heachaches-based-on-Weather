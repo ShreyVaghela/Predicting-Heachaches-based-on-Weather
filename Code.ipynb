{
 "cells": [
  {
   "cell_type": "markdown",
   "metadata": {},
   "source": [
    "# CSCI 6515 -- Machine Learning for Big Data\n",
    "\n",
    "### Assignment 1 -- Predicting Subject's Headaches Based on Weather Conditions\n",
    "\n",
    "**Group Members (5):**  \n",
    "    - Abhijeet Singh  \n",
    "    - Tayab Soomro  \n",
    "    - Rashidul Islam  \n",
    "    - Shrey Rameshbhai Vaghela  \n",
    "    - Dhruv Tarpara  "
   ]
  },
  {
   "cell_type": "markdown",
   "metadata": {},
   "source": [
    "## Introduction\n",
    "\n",
    "This notebook contains the code, as well as the results pertaining to the decision tree model that was used to predict the subject's headaches based on the weather conditions. The notebook is organized into following sections.\n",
    "\n",
    "\n",
    "1. [Library Imports](#1-library-imports)  \n",
    "2. [Data Preparation](#2-data-preparation)  \n",
    "    2.1 [Training Set](#21-training-set)  \n",
    "    2.2 [Data Preparation for Prediction Set](#22-prediction-set)  \n",
    "3. [Descriptive Analysis](#3-descriptive-analysis)  \n",
    "    3.1 [Mean, Median, Standard Deviation](#31-mean-median-standard-deviation)  \n",
    "    3.2 [Distribution of Headache Classes](#32-distribution-of-headache-classes)  \n",
    "    3.3 [Headache Distribution By Days of Week](#33-headache-distribution-by-days-of-week)  \n",
    "    3.4 [Hours of Headache Distributed By Days of Week](#34-hours-of-headache-distributed-by-days-of-week)  \n",
    "    3.5 [Headache Distribution By Temperature Range](#35-headache-distribution-by-temperature-range)  \n",
    "    3.6 [Headache Distribution By Humidity Range](#36-headache-distribution-by-temperature-range)  \n",
    "    3.7 [Headache Distribution By Wind Speed](#37-headache-distribution-by-wind-speed)  \n",
    "    3.8 [Numerical Features Histogram](#38-numerical-features-histogram)  \n",
    "4. [Feature Selection](#4-feature-selection)  \n",
    "    4.1 [Correlation Analysis of Training Set](#41-correlation-analysis-of-traning-set)  \n",
    "    4.2 [Finalized Features](#42-finalized-features)  \n",
    "    \n",
    "5. [Model Building](#5-model-building)  \n",
    "    5.1 [Feature Engineering](#51-feature-engineering)  \n",
    "    5.2 [Decision Tree With Default Parameters](#52-base-line-decision-tree)  \n",
    "    5.3 [Decision Tree With Hyperparameter Tuning With Class Weight As Balanced](#53-decision-tree-with-hyperparameter-tuning-with-class-weight-as-balanced)  \n",
    "    5.4 [Decision Tree With Oversampling of Training Data](#54-decision-tree-with-oversampling-of-traning-data)  \n",
    "    5.5 [Decision Tree With Undersampling of Traning Data](#55-decision-tree-with-undersampling-of-traning-data)  \n",
    "6. [Results Evaluation](#6-results-evaluation)  "
   ]
  },
  {
   "cell_type": "markdown",
   "metadata": {},
   "source": [
    "## 1. Library Imports"
   ]
  },
  {
   "cell_type": "code",
   "execution_count": null,
   "metadata": {},
   "outputs": [],
   "source": [
    "import pandas as pd\n",
    "import statistics\n",
    "import warnings\n",
    "import numpy as np\n",
    "import matplotlib.pyplot as plt\n",
    "from datetime import datetime\n",
    "import seaborn as sns\n",
    "import numpy as np\n",
    "from sklearn.feature_selection import SelectKBest\n",
    "from sklearn.feature_selection import chi2\n",
    "from sklearn.feature_selection import f_classif\n",
    "from sklearn.model_selection import train_test_split\n",
    "from sklearn.tree import DecisionTreeClassifier\n",
    "from sklearn.preprocessing import StandardScaler\n",
    "from sklearn.model_selection import RandomizedSearchCV\n",
    "from sklearn.model_selection import GridSearchCV\n",
    "from imblearn.over_sampling import RandomOverSampler\n",
    "from sklearn.metrics import accuracy_score,f1_score,precision_score, recall_score, confusion_matrix\n",
    "from imblearn.under_sampling import NearMiss\n",
    "from numpy import savetxt\n",
    "warnings.filterwarnings('ignore')\n"
   ]
  },
  {
   "cell_type": "markdown",
   "metadata": {},
   "source": [
    "## 2. Data Preparation"
   ]
  },
  {
   "cell_type": "markdown",
   "metadata": {},
   "source": [
    "#### Function for dropping unnecessary columns"
   ]
  },
  {
   "cell_type": "code",
   "execution_count": null,
   "metadata": {},
   "outputs": [],
   "source": [
    "## Function written to drop the unnecessary weather data columns\n",
    "def drop(data):\n",
    "    data = data.drop([\"Time\",\"Temp Flag\",\"Dew Point Temp Flag\",\"Rel Hum Flag\",\"Wind Dir Flag\",\"Wind Spd Flag\",\"Visibility (km)\",\"Visibility Flag\",\"Stn Press Flag\",\"Hmdx\",\"Hmdx Flag\",\"Wind Chill\",\"Wind Chill Flag\",\"Longitude (x)\",\"Latitude (y)\",\"Station Name\",\"Climate ID\",\"Weather\",\"Stn Press (kPa)\",\"Wind Dir (10s deg)\"],axis = 1)\n",
    "    return(data)"
   ]
  },
  {
   "cell_type": "markdown",
   "metadata": {},
   "source": [
    "#### Function for calulating average for each day (weather Data)"
   ]
  },
  {
   "cell_type": "code",
   "execution_count": null,
   "metadata": {},
   "outputs": [],
   "source": [
    "## Function written for calculating the average of each day for the weather data\n",
    "def average(data):\n",
    "    data = round(data.groupby([\"Day\",\"Month\",\"Year\"]).mean(),2)\n",
    "    data[\"Date\"] = data.index\n",
    "    data.reset_index(drop = True, inplace = True)\n",
    "\n",
    "    k = 0\n",
    "    for i in data[\"Date\"]:\n",
    "        l = []\n",
    "        for j in i:\n",
    "            l.append(str(j))\n",
    "        if len(l[0]) < 2:\n",
    "            l[0] = \"0\"+l[0]\n",
    "        if len (l[1]) < 2:\n",
    "            l[1] = \"0\" + l[1]\n",
    "        l[0],l[-1] = l[-1],l[0]\n",
    "        date = \"-\".join(l)\n",
    "        date_object = datetime.strptime(date, '%Y-%m-%d').date()\n",
    "        data[\"Date\"][k] = date_object\n",
    "        k = k + 1\n",
    "        \n",
    "    data = data[[\"Date\",\"Temp (°C)\",\"Dew Point Temp (°C)\",\"Rel Hum (%)\",\"Wind Spd (km/h)\"]]\n",
    "    return(data)\n",
    "        \n",
    "    "
   ]
  },
  {
   "cell_type": "markdown",
   "metadata": {},
   "source": [
    "#### Function for calulating combine weather data average for all station"
   ]
  },
  {
   "cell_type": "code",
   "execution_count": null,
   "metadata": {},
   "outputs": [],
   "source": [
    "## Function written for calculating the combine weather average data for all station\n",
    "def average_1 (ns_w,ns_s1, ns_s2,ns_d, ns_k):\n",
    "    data = pd.DataFrame(columns = [\"Date\",\"Temp\",\"Dew_Point_Temp\",\"Humidity\",\"Wind_Spd\"])\n",
    "    \n",
    "    data[\"Date\"] = ns_w[\"Date\"]\n",
    "    k = 0\n",
    "    for i in ns_w[\"Date\"]:\n",
    "        data[\"Temp\"][k] = statistics.median((ns_w[\"Temp (°C)\"][k],ns_s2[\"Temp (°C)\"][k],ns_k[\"Temp (°C)\"][k],ns_d[\"Temp (°C)\"][k]))\n",
    "        data[\"Dew_Point_Temp\"][k] = statistics.median((ns_w[\"Dew Point Temp (°C)\"][k],ns_s2[\"Dew Point Temp (°C)\"][k],ns_k[\"Dew Point Temp (°C)\"][k],ns_d[\"Dew Point Temp (°C)\"][k]))\n",
    "        data[\"Humidity\"][k] = statistics.median((ns_w[\"Rel Hum (%)\"][k],ns_s2[\"Rel Hum (%)\"][k],ns_k[\"Rel Hum (%)\"][k],ns_d[\"Rel Hum (%)\"][k]))\n",
    "        data[\"Wind_Spd\"][k] = statistics.median((ns_w[\"Wind Spd (km/h)\"][k],ns_s2[\"Wind Spd (km/h)\"][k],ns_k[\"Wind Spd (km/h)\"][k],ns_d[\"Wind Spd (km/h)\"][k]))\n",
    "        \n",
    "        k = k + 1\n",
    "    return(data)\n",
    "        \n",
    "        \n",
    "        \n",
    "        "
   ]
  },
  {
   "cell_type": "markdown",
   "metadata": {},
   "source": [
    "### 2.1 Training Set"
   ]
  },
  {
   "cell_type": "code",
   "execution_count": null,
   "metadata": {},
   "outputs": [],
   "source": [
    "#### Lodaing the data for all the stations for the year 2019(September to December)\n",
    "\n",
    "ns_w_sep = pd.read_csv(\"./Data/Hourly_Data_2019/weather_sept_Hali_w_2019H.csv\")\n",
    "ns_w_oct = pd.read_csv(\"./Data/Hourly_Data_2019/weather_octo_Hali_w_2019H.csv\")\n",
    "ns_w_nov = pd.read_csv(\"./Data/Hourly_Data_2019/weather_nove_Hali_w_2019H.csv\")\n",
    "ns_w_dec = pd.read_csv(\"./Data/Hourly_Data_2019/weather_Dece_Hali_w_2019H.csv\")\n",
    "\n",
    "ns_s1_sep = pd.read_csv(\"./Data/Hourly_Data_2019/weather_sept_Hali_s1_2019H.csv\")\n",
    "ns_s1_oct = pd.read_csv(\"./Data/Hourly_Data_2019/weather_octo_Hali_s1_2019H.csv\")\n",
    "ns_s1_nov = pd.read_csv(\"./Data/Hourly_Data_2019/weather_nove_Hali_s1_2019H.csv\")\n",
    "ns_s1_dec = pd.read_csv(\"./Data/Hourly_Data_2019/weather_Dece_Hali_s1_2019H.csv\")\n",
    "\n",
    "\n",
    "ns_s2_sep = pd.read_csv(\"./Data/Hourly_Data_2019/weather_sept_Hali_s2_2019H.csv\")\n",
    "ns_s2_oct = pd.read_csv(\"./Data/Hourly_Data_2019/weather_octo_Hali_s2_2019H.csv\")\n",
    "ns_s2_nov = pd.read_csv(\"./Data/Hourly_Data_2019/weather_nove_Hali_s2_2019H.csv\")\n",
    "ns_s2_dec = pd.read_csv(\"./Data/Hourly_Data_2019/weather_Dece_Hali_s2_2019H.csv\")\n",
    "\n",
    "\n",
    "ns_d_sep = pd.read_csv(\"./Data/Hourly_Data_2019/weather_sept_Hali_D_2019H.csv\")\n",
    "ns_d_oct = pd.read_csv(\"./Data/Hourly_Data_2019/weather_octo_Hali_D_2019H.csv\")\n",
    "ns_d_nov = pd.read_csv(\"./Data/Hourly_Data_2019/weather_nove_Hali_D_2019H.csv\")\n",
    "ns_d_dec = pd.read_csv(\"./Data/Hourly_Data_2019/weather_Dece_Hali_D_2019H.csv\")\n",
    "\n",
    "ns_k_sep = pd.read_csv(\"./Data/Hourly_Data_2019/weather_sept_Hali_k_2019H.csv\")\n",
    "ns_k_oct = pd.read_csv(\"./Data/Hourly_Data_2019/weather_octo_Hali_k_2019H.csv\")\n",
    "ns_k_nov = pd.read_csv(\"./Data/Hourly_Data_2019/weather_nove_Hali_k_2019H.csv\")\n",
    "ns_k_dec = pd.read_csv(\"./Data/Hourly_Data_2019/weather_Dece_Hali_k_2019H.csv\")\n"
   ]
  },
  {
   "cell_type": "markdown",
   "metadata": {},
   "source": [
    "#### Dropping Unnecessary columns and calculating mean for Halifax Windsor Station 2019"
   ]
  },
  {
   "cell_type": "code",
   "execution_count": null,
   "metadata": {},
   "outputs": [],
   "source": [
    "## With this code above functions are being called to drop and to take the average\n",
    "ns_w_sep = drop(ns_w_sep)\n",
    "ns_w_sep = average(ns_w_sep)\n",
    "ns_w_oct = drop(ns_w_oct)\n",
    "ns_w_oct = average(ns_w_oct)\n",
    "ns_w_nov = drop(ns_w_nov)\n",
    "ns_w_nov = average(ns_w_nov)\n",
    "ns_w_dec = drop(ns_w_dec)\n",
    "ns_w_dec = average(ns_w_dec)"
   ]
  },
  {
   "cell_type": "code",
   "execution_count": null,
   "metadata": {},
   "outputs": [],
   "source": [
    "## This is the code for concatinating the data for required months\n",
    "ns_w = pd.concat([ns_w_sep,ns_w_oct,ns_w_nov,ns_w_dec])\n",
    "ns_w = ns_w.reset_index()\n",
    "ns_w_2019 = ns_w.drop([\"index\"],axis = 1)"
   ]
  },
  {
   "cell_type": "markdown",
   "metadata": {},
   "source": [
    "#### Dropping Unnecessary columns and calculating mean for Halifax stanfield Station 1 2019"
   ]
  },
  {
   "cell_type": "code",
   "execution_count": null,
   "metadata": {},
   "outputs": [],
   "source": [
    "## With this code above functions are being called to drop and to take the average\n",
    "ns_s1_sep = drop(ns_s1_sep)\n",
    "ns_s1_sep = average(ns_s1_sep)\n",
    "ns_s1_oct = drop(ns_s1_oct)\n",
    "ns_s1_oct = average(ns_s1_oct)\n",
    "ns_s1_nov = drop(ns_s1_nov)\n",
    "ns_s1_nov = average(ns_s1_nov)\n",
    "ns_s1_dec = drop(ns_s1_dec)\n",
    "ns_s1_dec = average(ns_s1_dec)"
   ]
  },
  {
   "cell_type": "code",
   "execution_count": null,
   "metadata": {},
   "outputs": [],
   "source": [
    "## This is the code for concatinating the data for required months\n",
    "ns_s1 = pd.concat([ns_s1_sep,ns_s1_oct,ns_s1_nov,ns_s1_dec])\n",
    "ns_s1 = ns_s1.reset_index()\n",
    "ns_s1_2019 = ns_s1.drop([\"index\"],axis = 1)"
   ]
  },
  {
   "cell_type": "markdown",
   "metadata": {},
   "source": [
    "#### Dropping Unnecessary columns and calculating mean for Halifax stanfield Station 2 2019"
   ]
  },
  {
   "cell_type": "code",
   "execution_count": null,
   "metadata": {},
   "outputs": [],
   "source": [
    "## With this code above functions are being called to drop and to take the average\n",
    "ns_s2_sep = drop(ns_s2_sep)\n",
    "ns_s2_sep = average(ns_s2_sep)\n",
    "ns_s2_oct = drop(ns_s2_oct)\n",
    "ns_s2_oct = average(ns_s2_oct)\n",
    "ns_s2_nov = drop(ns_s2_nov)\n",
    "ns_s2_nov = average(ns_s2_nov)\n",
    "ns_s2_dec = drop(ns_s2_dec)\n",
    "ns_s2_dec = average(ns_s2_dec)"
   ]
  },
  {
   "cell_type": "code",
   "execution_count": null,
   "metadata": {},
   "outputs": [],
   "source": [
    "## This is the code for concatinating the data for required months\n",
    "ns_s2 = pd.concat([ns_s2_sep,ns_s2_oct,ns_s2_nov,ns_s2_dec])\n",
    "ns_s2 = ns_s2.reset_index()\n",
    "ns_s2_2019 = ns_s2.drop([\"index\"],axis = 1)"
   ]
  },
  {
   "cell_type": "markdown",
   "metadata": {},
   "source": [
    "#### Dropping Unnecessary columns and calculating mean for Halifax Dockyard Station 2019"
   ]
  },
  {
   "cell_type": "code",
   "execution_count": null,
   "metadata": {},
   "outputs": [],
   "source": [
    "## With this code above functions are being called to drop and to take the average\n",
    "ns_d_sep = drop(ns_d_sep)\n",
    "ns_d_sep = average(ns_d_sep)\n",
    "ns_d_oct = drop(ns_d_oct)\n",
    "ns_d_oct = average(ns_d_oct)\n",
    "ns_d_nov = drop(ns_d_nov)\n",
    "ns_d_nov = average(ns_d_nov)\n",
    "ns_d_dec = drop(ns_d_dec)\n",
    "ns_d_dec = average(ns_d_dec)"
   ]
  },
  {
   "cell_type": "code",
   "execution_count": null,
   "metadata": {},
   "outputs": [],
   "source": [
    "## This is the code for concatinating the data for required months\n",
    "ns_d = pd.concat([ns_d_sep,ns_d_oct,ns_d_nov,ns_d_dec])\n",
    "ns_d = ns_d.reset_index()\n",
    "ns_d_2019 = ns_d.drop([\"index\"],axis = 1)"
   ]
  },
  {
   "cell_type": "markdown",
   "metadata": {},
   "source": [
    "#### Dropping Unnecessary columns and calculating mean for Halifax Kettonie Station 2019"
   ]
  },
  {
   "cell_type": "code",
   "execution_count": null,
   "metadata": {},
   "outputs": [],
   "source": [
    "## With this code above functions are being called to drop and to take the average\n",
    "ns_k_sep = drop(ns_k_sep)\n",
    "ns_k_sep = average(ns_k_sep)\n",
    "ns_k_oct = drop(ns_k_oct)\n",
    "ns_k_oct = average(ns_k_oct)\n",
    "ns_k_nov = drop(ns_k_nov)\n",
    "ns_k_nov = average(ns_k_nov)\n",
    "ns_k_dec = drop(ns_k_dec)\n",
    "ns_k_dec = average(ns_k_dec)"
   ]
  },
  {
   "cell_type": "code",
   "execution_count": null,
   "metadata": {},
   "outputs": [],
   "source": [
    "## This is the code for concatinating the data for required months\n",
    "ns_k = pd.concat([ns_k_sep,ns_k_oct,ns_k_nov,ns_k_dec])\n",
    "ns_k = ns_k.reset_index()\n",
    "ns_k_2019 = ns_k.drop([\"index\"], axis = 1)"
   ]
  },
  {
   "cell_type": "code",
   "execution_count": null,
   "metadata": {},
   "outputs": [],
   "source": [
    "print(\"shape of Halifax windsor station :\", ns_w_2019.shape)\n",
    "print(\"shape of Halifax Stanfield 2 station :\", ns_s1_2019.shape)\n",
    "print(\"shape of Halifax Stanfield 2 station :\", ns_s2_2019.shape)\n",
    "print(\"shape of Halifax Dockyard station :\", ns_d_2019.shape)\n",
    "print(\"shape of Halifax kettonie station :\", ns_k_2019.shape)"
   ]
  },
  {
   "cell_type": "markdown",
   "metadata": {},
   "source": [
    "#### Taking average of all the station combined weather data 2019"
   ]
  },
  {
   "cell_type": "code",
   "execution_count": null,
   "metadata": {},
   "outputs": [],
   "source": [
    "## This code calulates the average of all the station combined by calling the above function\n",
    "station_2019 = average_1(ns_w_2019,ns_s1_2019, ns_s2_2019,ns_d_2019, ns_k_2019)"
   ]
  },
  {
   "cell_type": "code",
   "execution_count": null,
   "metadata": {},
   "outputs": [],
   "source": [
    "# checking the null values in the station data\n",
    "station_2019.isna().sum()"
   ]
  },
  {
   "cell_type": "code",
   "execution_count": null,
   "metadata": {},
   "outputs": [],
   "source": [
    "station_2019.head(2)"
   ]
  },
  {
   "cell_type": "markdown",
   "metadata": {},
   "source": [
    "#### Loading journal Data"
   ]
  },
  {
   "cell_type": "code",
   "execution_count": null,
   "metadata": {},
   "outputs": [],
   "source": [
    "journal_train = pd.read_excel(\"./Data/Combined_Journal_data1.xlsx\")"
   ]
  },
  {
   "cell_type": "code",
   "execution_count": null,
   "metadata": {},
   "outputs": [],
   "source": [
    "journal_train.shape"
   ]
  },
  {
   "cell_type": "code",
   "execution_count": null,
   "metadata": {},
   "outputs": [],
   "source": [
    "journal_train.columns"
   ]
  },
  {
   "cell_type": "markdown",
   "metadata": {},
   "source": [
    "#### Combining Journal and Station Data"
   ]
  },
  {
   "cell_type": "code",
   "execution_count": null,
   "metadata": {},
   "outputs": [],
   "source": [
    "#### Combining the journal data and station data to have the dataset for traning and test set\n",
    "\n",
    "data_journal_weather_2019 = station_2019.set_index(\"Date\").join(journal_train.set_index(\"Date\"))\n",
    "data_journal_weather_2019[\"Date\"] = data_journal_weather_2019.index\n",
    "data_journal_weather_2019.reset_index(drop = True, inplace = True)\n",
    "data_journal_weather_2019.columns\n",
    "data_journal_weather_2019= data_journal_weather_2019[[\"Date\",'Days','Temp','Dew_Point_Temp','Humidity','Wind_Spd','Severity of Headache','No. of hours Headache', 'No. of Hours Workout','Headache']]"
   ]
  },
  {
   "cell_type": "code",
   "execution_count": null,
   "metadata": {},
   "outputs": [],
   "source": [
    "print(\"shape of the journal and station data:\", data_journal_weather_2019.shape)"
   ]
  },
  {
   "cell_type": "code",
   "execution_count": null,
   "metadata": {},
   "outputs": [],
   "source": [
    "data_journal_weather_2019.head(2)"
   ]
  },
  {
   "cell_type": "code",
   "execution_count": null,
   "metadata": {},
   "outputs": [],
   "source": [
    "# Checking Null Values\n",
    "data_journal_weather_2019.isnull().sum()"
   ]
  },
  {
   "cell_type": "code",
   "execution_count": null,
   "metadata": {},
   "outputs": [],
   "source": [
    "# Replacing Null Values in the dataset\n",
    "\n",
    "data_journal_weather_2019[\"Severity of Headache\"] = data_journal_weather_2019[\"Severity of Headache\"].replace(np.nan,0)\n",
    "data_journal_weather_2019[\"No. of hours Headache\"] = data_journal_weather_2019[\"No. of hours Headache\"].replace(np.nan,0)\n",
    "data_journal_weather_2019[\"No. of Hours Workout\"] = data_journal_weather_2019[\"No. of Hours Workout\"].replace(np.nan,0)"
   ]
  },
  {
   "cell_type": "code",
   "execution_count": null,
   "metadata": {},
   "outputs": [],
   "source": [
    "# Saving the data\n",
    "data_journal_weather_2019.to_excel(\"model_data.xls\",index = False)"
   ]
  },
  {
   "cell_type": "code",
   "execution_count": 7,
   "metadata": {},
   "outputs": [],
   "source": [
    "data_journal_weather_2019 = pd.read_excel(\"model_data.xls\")"
   ]
  },
  {
   "cell_type": "markdown",
   "metadata": {},
   "source": [
    "### 2.2  Prediction Set"
   ]
  },
  {
   "cell_type": "code",
   "execution_count": 8,
   "metadata": {},
   "outputs": [],
   "source": [
    "# In this code data is loaded for sept2020\n",
    "ns_w_sep = pd.read_csv(\"./Data/Hourly_Data_2020/weather_sept_Hali_w_2020H.csv\")\n",
    "ns_s1_sep = pd.read_csv(\"./Data/Hourly_Data_2020/weather_sept_Hali_s1_2020H.csv\")\n",
    "ns_s2_sep = pd.read_csv(\"./Data/Hourly_Data_2020/weather_sept_Hali_s2_2020H.csv\")\n",
    "ns_d_sep = pd.read_csv(\"./Data/Hourly_Data_2020/weather_sept_Hali_D_2020H.csv\")\n",
    "ns_k_sep = pd.read_csv(\"./Data/Hourly_Data_2020/weather_sept_Hali_k_2020H.csv\")"
   ]
  },
  {
   "cell_type": "markdown",
   "metadata": {},
   "source": [
    "#### Dropping Unnecessary columns and calculating mean for Halifax Windsor Station 2020"
   ]
  },
  {
   "cell_type": "code",
   "execution_count": null,
   "metadata": {},
   "outputs": [],
   "source": [
    "## With this code above functions are being called to drop and to take the average\n",
    "ns_w_sep = drop(ns_w_sep)\n",
    "ns_w_sep_2020 = average(ns_w_sep)"
   ]
  },
  {
   "cell_type": "markdown",
   "metadata": {},
   "source": [
    "#### Dropping Unnecessary columns and calculating mean for Halifax stanfield Station1 2020"
   ]
  },
  {
   "cell_type": "code",
   "execution_count": null,
   "metadata": {},
   "outputs": [],
   "source": [
    "## With this code above functions are being called to drop and to take the average\n",
    "ns_s1_sep = drop(ns_s1_sep)\n",
    "ns_s1_sep_2020 = average(ns_s1_sep)"
   ]
  },
  {
   "cell_type": "markdown",
   "metadata": {},
   "source": [
    "#### Dropping Unnecessary columns and calculating mean for Halifax stanfield Station 2 2020"
   ]
  },
  {
   "cell_type": "code",
   "execution_count": null,
   "metadata": {},
   "outputs": [],
   "source": [
    "## With this code above functions are being called to drop and to take the average\n",
    "ns_s2_sep = drop(ns_s2_sep)\n",
    "ns_s2_sep_2020 = average(ns_s2_sep)"
   ]
  },
  {
   "cell_type": "markdown",
   "metadata": {},
   "source": [
    "#### Dropping Unnecessary columns and calculating mean for Halifax Dockyard Station 2020"
   ]
  },
  {
   "cell_type": "code",
   "execution_count": null,
   "metadata": {},
   "outputs": [],
   "source": [
    "## With this code above functions are being called to drop and to take the average\n",
    "ns_d_sep = drop(ns_d_sep)\n",
    "ns_d_sep_2020 = average(ns_d_sep)"
   ]
  },
  {
   "cell_type": "markdown",
   "metadata": {},
   "source": [
    "#### Dropping Unnecessary columns and calculating mean for Halifax Kettonie Station 2020"
   ]
  },
  {
   "cell_type": "code",
   "execution_count": null,
   "metadata": {},
   "outputs": [],
   "source": [
    "## With this code above functions are being called to drop and to take the average\n",
    "ns_k_sep = drop(ns_k_sep)\n",
    "ns_k_sep_2020 = average(ns_k_sep)"
   ]
  },
  {
   "cell_type": "code",
   "execution_count": null,
   "metadata": {},
   "outputs": [],
   "source": [
    "print(\"shape of Halifax windsor station :\", ns_w_sep_2020.shape)\n",
    "print(\"shape of Halifax Stanfield 2 station :\", ns_s2_sep_2020.shape)\n",
    "print(\"shape of Halifax Dockyard station :\", ns_d_sep_2020.shape)\n",
    "print(\"shape of Halifax kettonie station :\", ns_k_sep_2020.shape)"
   ]
  },
  {
   "cell_type": "markdown",
   "metadata": {},
   "source": [
    "#### Taking average of all the station combined weather data 2020"
   ]
  },
  {
   "cell_type": "code",
   "execution_count": null,
   "metadata": {},
   "outputs": [],
   "source": [
    "# With this code above function are called for calculating the average combined of all the station weather's data 2020\n",
    "station_2020 = average_1(ns_w_sep_2020,ns_s1_sep_2020,ns_s2_sep_2020,ns_d_sep_2020,ns_k_sep_2020)"
   ]
  },
  {
   "cell_type": "code",
   "execution_count": null,
   "metadata": {},
   "outputs": [],
   "source": [
    "# checking the null values in the station data\n",
    "station_2020.isna().sum()"
   ]
  },
  {
   "cell_type": "code",
   "execution_count": null,
   "metadata": {},
   "outputs": [],
   "source": [
    "station_2020.head(2)"
   ]
  },
  {
   "cell_type": "code",
   "execution_count": null,
   "metadata": {},
   "outputs": [],
   "source": [
    "station_2020.to_excel(\"prediction_Set.xls\", index = False)"
   ]
  },
  {
   "cell_type": "code",
   "execution_count": null,
   "metadata": {},
   "outputs": [],
   "source": [
    "## Loading the journal data for sept2020 same as before\n",
    "journal_data = pd.read_excel(\"./Data/student_workout_work_schdule_2020.xlsx\")"
   ]
  },
  {
   "cell_type": "markdown",
   "metadata": {},
   "source": [
    "#### Combining weather and journal data for prediction set sept 2020"
   ]
  },
  {
   "cell_type": "code",
   "execution_count": null,
   "metadata": {},
   "outputs": [],
   "source": [
    "## Combining journal and weather data for sept 2020\n",
    "prediction_data_journal_weather_2020 = station_2020.set_index(\"Date\").join(journal_data.set_index(\"Date\"))\n",
    "prediction_data_journal_weather_2020[\"Date\"] = prediction_data_journal_weather_2020.index\n",
    "prediction_data_journal_weather_2020.reset_index(drop = True, inplace = True)\n",
    "prediction_data_journal_weather_2020= prediction_data_journal_weather_2020[[\"Date\",'Temp','Dew_Point_Temp','Humidity','Wind_Spd', 'Work Schdule hours',\n",
    "        'No. of Hours Workout']]"
   ]
  },
  {
   "cell_type": "code",
   "execution_count": 43,
   "metadata": {},
   "outputs": [],
   "source": [
    "prediction_data_journal_weather_2020.to_csv(\"prediction_data_journal_weather_2020.csv\", index = False)"
   ]
  },
  {
   "cell_type": "code",
   "execution_count": 43,
   "metadata": {},
   "outputs": [
    {
     "data": {
      "text/html": [
       "<div>\n",
       "<style scoped>\n",
       "    .dataframe tbody tr th:only-of-type {\n",
       "        vertical-align: middle;\n",
       "    }\n",
       "\n",
       "    .dataframe tbody tr th {\n",
       "        vertical-align: top;\n",
       "    }\n",
       "\n",
       "    .dataframe thead th {\n",
       "        text-align: right;\n",
       "    }\n",
       "</style>\n",
       "<table border=\"1\" class=\"dataframe\">\n",
       "  <thead>\n",
       "    <tr style=\"text-align: right;\">\n",
       "      <th></th>\n",
       "      <th>Date</th>\n",
       "      <th>Temp</th>\n",
       "      <th>Dew_Point_Temp</th>\n",
       "      <th>Humidity</th>\n",
       "      <th>Wind_Spd</th>\n",
       "      <th>Work Schdule hours</th>\n",
       "      <th>No. of Hours Workout</th>\n",
       "    </tr>\n",
       "  </thead>\n",
       "  <tbody>\n",
       "    <tr>\n",
       "      <th>0</th>\n",
       "      <td>2020-09-01</td>\n",
       "      <td>14.625</td>\n",
       "      <td>9.145</td>\n",
       "      <td>69.475</td>\n",
       "      <td>6.935</td>\n",
       "      <td>0</td>\n",
       "      <td>NaN</td>\n",
       "    </tr>\n",
       "    <tr>\n",
       "      <th>1</th>\n",
       "      <td>2020-09-02</td>\n",
       "      <td>14.315</td>\n",
       "      <td>12.72</td>\n",
       "      <td>90.415</td>\n",
       "      <td>9.705</td>\n",
       "      <td>8</td>\n",
       "      <td>1.0</td>\n",
       "    </tr>\n",
       "  </tbody>\n",
       "</table>\n",
       "</div>"
      ],
      "text/plain": [
       "        Date    Temp Dew_Point_Temp Humidity Wind_Spd  Work Schdule hours  \\\n",
       "0 2020-09-01  14.625          9.145   69.475    6.935                   0   \n",
       "1 2020-09-02  14.315          12.72   90.415    9.705                   8   \n",
       "\n",
       "   No. of Hours Workout  \n",
       "0                   NaN  \n",
       "1                   1.0  "
      ]
     },
     "execution_count": 43,
     "metadata": {},
     "output_type": "execute_result"
    }
   ],
   "source": [
    "prediction_data_journal_weather_2020.head(2)"
   ]
  },
  {
   "cell_type": "code",
   "execution_count": 44,
   "metadata": {},
   "outputs": [
    {
     "data": {
      "text/plain": [
       "Date                     0\n",
       "Temp                     0\n",
       "Dew_Point_Temp           0\n",
       "Humidity                 0\n",
       "Wind_Spd                 0\n",
       "Work Schdule hours       0\n",
       "No. of Hours Workout    26\n",
       "dtype: int64"
      ]
     },
     "execution_count": 44,
     "metadata": {},
     "output_type": "execute_result"
    }
   ],
   "source": [
    "prediction_data_journal_weather_2020.isna().sum()"
   ]
  },
  {
   "cell_type": "code",
   "execution_count": 45,
   "metadata": {},
   "outputs": [],
   "source": [
    "##Replacing the mising values in No.of hours of workout\n",
    "prediction_data_journal_weather_2020[\"No. of Hours Workout\"] = prediction_data_journal_weather_2020[\"No. of Hours Workout\"].replace(np.nan,0)"
   ]
  },
  {
   "cell_type": "code",
   "execution_count": 46,
   "metadata": {},
   "outputs": [
    {
     "data": {
      "text/plain": [
       "Date                    0\n",
       "Temp                    0\n",
       "Dew_Point_Temp          0\n",
       "Humidity                0\n",
       "Wind_Spd                0\n",
       "Work Schdule hours      0\n",
       "No. of Hours Workout    0\n",
       "dtype: int64"
      ]
     },
     "execution_count": 46,
     "metadata": {},
     "output_type": "execute_result"
    }
   ],
   "source": [
    "prediction_data_journal_weather_2020.isna().sum()"
   ]
  },
  {
   "cell_type": "markdown",
   "metadata": {},
   "source": [
    "## 3. Descriptive Analysis"
   ]
  },
  {
   "cell_type": "markdown",
   "metadata": {},
   "source": [
    "### 3.1 Mean, Median, Standard Deviation"
   ]
  },
  {
   "cell_type": "code",
   "execution_count": 47,
   "metadata": {},
   "outputs": [
    {
     "data": {
      "text/html": [
       "<div>\n",
       "<style scoped>\n",
       "    .dataframe tbody tr th:only-of-type {\n",
       "        vertical-align: middle;\n",
       "    }\n",
       "\n",
       "    .dataframe tbody tr th {\n",
       "        vertical-align: top;\n",
       "    }\n",
       "\n",
       "    .dataframe thead th {\n",
       "        text-align: right;\n",
       "    }\n",
       "</style>\n",
       "<table border=\"1\" class=\"dataframe\">\n",
       "  <thead>\n",
       "    <tr style=\"text-align: right;\">\n",
       "      <th></th>\n",
       "      <th>Date</th>\n",
       "      <th>Days</th>\n",
       "      <th>Temp</th>\n",
       "      <th>Dew_Point_Temp</th>\n",
       "      <th>Humidity</th>\n",
       "      <th>Wind_Spd</th>\n",
       "      <th>Severity of Headache</th>\n",
       "      <th>Work Schdule hours</th>\n",
       "      <th>No. of hours Headache</th>\n",
       "      <th>No. of Hours Workout</th>\n",
       "      <th>Headache</th>\n",
       "    </tr>\n",
       "  </thead>\n",
       "  <tbody>\n",
       "    <tr>\n",
       "      <th>0</th>\n",
       "      <td>2019-09-01</td>\n",
       "      <td>Sunday</td>\n",
       "      <td>17.935</td>\n",
       "      <td>10.19</td>\n",
       "      <td>63.730</td>\n",
       "      <td>10.915</td>\n",
       "      <td>0.0</td>\n",
       "      <td>0</td>\n",
       "      <td>0</td>\n",
       "      <td>0</td>\n",
       "      <td>0</td>\n",
       "    </tr>\n",
       "    <tr>\n",
       "      <th>1</th>\n",
       "      <td>2019-09-02</td>\n",
       "      <td>Monday</td>\n",
       "      <td>17.650</td>\n",
       "      <td>15.23</td>\n",
       "      <td>86.580</td>\n",
       "      <td>12.850</td>\n",
       "      <td>0.0</td>\n",
       "      <td>8</td>\n",
       "      <td>0</td>\n",
       "      <td>1</td>\n",
       "      <td>0</td>\n",
       "    </tr>\n",
       "    <tr>\n",
       "      <th>2</th>\n",
       "      <td>2019-09-03</td>\n",
       "      <td>Tuesday</td>\n",
       "      <td>19.960</td>\n",
       "      <td>17.50</td>\n",
       "      <td>86.355</td>\n",
       "      <td>8.520</td>\n",
       "      <td>0.0</td>\n",
       "      <td>8</td>\n",
       "      <td>0</td>\n",
       "      <td>0</td>\n",
       "      <td>0</td>\n",
       "    </tr>\n",
       "    <tr>\n",
       "      <th>3</th>\n",
       "      <td>2019-09-04</td>\n",
       "      <td>Wednesday</td>\n",
       "      <td>19.410</td>\n",
       "      <td>17.45</td>\n",
       "      <td>88.915</td>\n",
       "      <td>11.540</td>\n",
       "      <td>0.0</td>\n",
       "      <td>8</td>\n",
       "      <td>0</td>\n",
       "      <td>1</td>\n",
       "      <td>0</td>\n",
       "    </tr>\n",
       "    <tr>\n",
       "      <th>4</th>\n",
       "      <td>2019-09-05</td>\n",
       "      <td>Thursday</td>\n",
       "      <td>19.705</td>\n",
       "      <td>13.25</td>\n",
       "      <td>68.250</td>\n",
       "      <td>13.415</td>\n",
       "      <td>0.8</td>\n",
       "      <td>8</td>\n",
       "      <td>3</td>\n",
       "      <td>0</td>\n",
       "      <td>1</td>\n",
       "    </tr>\n",
       "  </tbody>\n",
       "</table>\n",
       "</div>"
      ],
      "text/plain": [
       "        Date       Days    Temp  Dew_Point_Temp  Humidity  Wind_Spd  \\\n",
       "0 2019-09-01     Sunday  17.935           10.19    63.730    10.915   \n",
       "1 2019-09-02     Monday  17.650           15.23    86.580    12.850   \n",
       "2 2019-09-03    Tuesday  19.960           17.50    86.355     8.520   \n",
       "3 2019-09-04  Wednesday  19.410           17.45    88.915    11.540   \n",
       "4 2019-09-05   Thursday  19.705           13.25    68.250    13.415   \n",
       "\n",
       "   Severity of Headache  Work Schdule hours  No. of hours Headache  \\\n",
       "0                   0.0                   0                      0   \n",
       "1                   0.0                   8                      0   \n",
       "2                   0.0                   8                      0   \n",
       "3                   0.0                   8                      0   \n",
       "4                   0.8                   8                      3   \n",
       "\n",
       "   No. of Hours Workout  Headache  \n",
       "0                     0         0  \n",
       "1                     1         0  \n",
       "2                     0         0  \n",
       "3                     1         0  \n",
       "4                     0         1  "
      ]
     },
     "execution_count": 47,
     "metadata": {},
     "output_type": "execute_result"
    }
   ],
   "source": [
    "data_journal_weather_2019.head()"
   ]
  },
  {
   "cell_type": "code",
   "execution_count": 48,
   "metadata": {},
   "outputs": [
    {
     "name": "stdout",
     "output_type": "stream",
     "text": [
      "<class 'pandas.core.frame.DataFrame'>\n",
      "RangeIndex: 122 entries, 0 to 121\n",
      "Data columns (total 11 columns):\n",
      " #   Column                 Non-Null Count  Dtype         \n",
      "---  ------                 --------------  -----         \n",
      " 0   Date                   122 non-null    datetime64[ns]\n",
      " 1   Days                   122 non-null    object        \n",
      " 2   Temp                   122 non-null    float64       \n",
      " 3   Dew_Point_Temp         122 non-null    float64       \n",
      " 4   Humidity               122 non-null    float64       \n",
      " 5   Wind_Spd               122 non-null    float64       \n",
      " 6   Severity of Headache   122 non-null    float64       \n",
      " 7   Work Schdule hours     122 non-null    int64         \n",
      " 8   No. of hours Headache  122 non-null    int64         \n",
      " 9   No. of Hours Workout   122 non-null    int64         \n",
      " 10  Headache               122 non-null    int64         \n",
      "dtypes: datetime64[ns](1), float64(5), int64(4), object(1)\n",
      "memory usage: 10.6+ KB\n"
     ]
    }
   ],
   "source": [
    "data_journal_weather_2019.info()"
   ]
  },
  {
   "cell_type": "markdown",
   "metadata": {},
   "source": [
    "- There is one feature with datetime datatype\n",
    "- There is also one feature (Days) categorical datatype and all the other feature are of integer or float data type "
   ]
  },
  {
   "cell_type": "code",
   "execution_count": 49,
   "metadata": {},
   "outputs": [
    {
     "data": {
      "text/html": [
       "<div>\n",
       "<style scoped>\n",
       "    .dataframe tbody tr th:only-of-type {\n",
       "        vertical-align: middle;\n",
       "    }\n",
       "\n",
       "    .dataframe tbody tr th {\n",
       "        vertical-align: top;\n",
       "    }\n",
       "\n",
       "    .dataframe thead th {\n",
       "        text-align: right;\n",
       "    }\n",
       "</style>\n",
       "<table border=\"1\" class=\"dataframe\">\n",
       "  <thead>\n",
       "    <tr style=\"text-align: right;\">\n",
       "      <th></th>\n",
       "      <th>Temp</th>\n",
       "      <th>Dew_Point_Temp</th>\n",
       "      <th>Humidity</th>\n",
       "      <th>Wind_Spd</th>\n",
       "      <th>Severity of Headache</th>\n",
       "      <th>Work Schdule hours</th>\n",
       "      <th>No. of hours Headache</th>\n",
       "      <th>No. of Hours Workout</th>\n",
       "      <th>Headache</th>\n",
       "    </tr>\n",
       "  </thead>\n",
       "  <tbody>\n",
       "    <tr>\n",
       "      <th>count</th>\n",
       "      <td>122.000000</td>\n",
       "      <td>122.000000</td>\n",
       "      <td>122.000000</td>\n",
       "      <td>122.000000</td>\n",
       "      <td>122.000000</td>\n",
       "      <td>122.000000</td>\n",
       "      <td>122.000000</td>\n",
       "      <td>122.000000</td>\n",
       "      <td>122.000000</td>\n",
       "    </tr>\n",
       "    <tr>\n",
       "      <th>mean</th>\n",
       "      <td>7.304795</td>\n",
       "      <td>3.328156</td>\n",
       "      <td>77.031393</td>\n",
       "      <td>16.187746</td>\n",
       "      <td>0.059016</td>\n",
       "      <td>5.377049</td>\n",
       "      <td>0.475410</td>\n",
       "      <td>0.122951</td>\n",
       "      <td>0.081967</td>\n",
       "    </tr>\n",
       "    <tr>\n",
       "      <th>std</th>\n",
       "      <td>6.957861</td>\n",
       "      <td>7.175483</td>\n",
       "      <td>9.502067</td>\n",
       "      <td>6.794198</td>\n",
       "      <td>0.203585</td>\n",
       "      <td>3.770981</td>\n",
       "      <td>1.855139</td>\n",
       "      <td>0.329735</td>\n",
       "      <td>0.275446</td>\n",
       "    </tr>\n",
       "    <tr>\n",
       "      <th>min</th>\n",
       "      <td>-7.015000</td>\n",
       "      <td>-11.840000</td>\n",
       "      <td>45.435000</td>\n",
       "      <td>6.225000</td>\n",
       "      <td>0.000000</td>\n",
       "      <td>0.000000</td>\n",
       "      <td>0.000000</td>\n",
       "      <td>0.000000</td>\n",
       "      <td>0.000000</td>\n",
       "    </tr>\n",
       "    <tr>\n",
       "      <th>25%</th>\n",
       "      <td>1.301250</td>\n",
       "      <td>-0.581250</td>\n",
       "      <td>69.862500</td>\n",
       "      <td>11.431250</td>\n",
       "      <td>0.000000</td>\n",
       "      <td>0.000000</td>\n",
       "      <td>0.000000</td>\n",
       "      <td>0.000000</td>\n",
       "      <td>0.000000</td>\n",
       "    </tr>\n",
       "    <tr>\n",
       "      <th>50%</th>\n",
       "      <td>7.520000</td>\n",
       "      <td>3.822500</td>\n",
       "      <td>76.082500</td>\n",
       "      <td>14.315000</td>\n",
       "      <td>0.000000</td>\n",
       "      <td>8.000000</td>\n",
       "      <td>0.000000</td>\n",
       "      <td>0.000000</td>\n",
       "      <td>0.000000</td>\n",
       "    </tr>\n",
       "    <tr>\n",
       "      <th>75%</th>\n",
       "      <td>12.543750</td>\n",
       "      <td>9.667500</td>\n",
       "      <td>84.052500</td>\n",
       "      <td>18.816250</td>\n",
       "      <td>0.000000</td>\n",
       "      <td>8.000000</td>\n",
       "      <td>0.000000</td>\n",
       "      <td>0.000000</td>\n",
       "      <td>0.000000</td>\n",
       "    </tr>\n",
       "    <tr>\n",
       "      <th>max</th>\n",
       "      <td>19.960000</td>\n",
       "      <td>17.500000</td>\n",
       "      <td>95.975000</td>\n",
       "      <td>38.520000</td>\n",
       "      <td>1.000000</td>\n",
       "      <td>8.000000</td>\n",
       "      <td>14.000000</td>\n",
       "      <td>1.000000</td>\n",
       "      <td>1.000000</td>\n",
       "    </tr>\n",
       "  </tbody>\n",
       "</table>\n",
       "</div>"
      ],
      "text/plain": [
       "             Temp  Dew_Point_Temp    Humidity    Wind_Spd  \\\n",
       "count  122.000000      122.000000  122.000000  122.000000   \n",
       "mean     7.304795        3.328156   77.031393   16.187746   \n",
       "std      6.957861        7.175483    9.502067    6.794198   \n",
       "min     -7.015000      -11.840000   45.435000    6.225000   \n",
       "25%      1.301250       -0.581250   69.862500   11.431250   \n",
       "50%      7.520000        3.822500   76.082500   14.315000   \n",
       "75%     12.543750        9.667500   84.052500   18.816250   \n",
       "max     19.960000       17.500000   95.975000   38.520000   \n",
       "\n",
       "       Severity of Headache  Work Schdule hours  No. of hours Headache  \\\n",
       "count            122.000000          122.000000             122.000000   \n",
       "mean               0.059016            5.377049               0.475410   \n",
       "std                0.203585            3.770981               1.855139   \n",
       "min                0.000000            0.000000               0.000000   \n",
       "25%                0.000000            0.000000               0.000000   \n",
       "50%                0.000000            8.000000               0.000000   \n",
       "75%                0.000000            8.000000               0.000000   \n",
       "max                1.000000            8.000000              14.000000   \n",
       "\n",
       "       No. of Hours Workout    Headache  \n",
       "count            122.000000  122.000000  \n",
       "mean               0.122951    0.081967  \n",
       "std                0.329735    0.275446  \n",
       "min                0.000000    0.000000  \n",
       "25%                0.000000    0.000000  \n",
       "50%                0.000000    0.000000  \n",
       "75%                0.000000    0.000000  \n",
       "max                1.000000    1.000000  "
      ]
     },
     "execution_count": 49,
     "metadata": {},
     "output_type": "execute_result"
    }
   ],
   "source": [
    "data_journal_weather_2019.describe()"
   ]
  },
  {
   "cell_type": "markdown",
   "metadata": {},
   "source": [
    "##### Description\n",
    "\n",
    "- Mean and std deviation of Humidity are 77.03 and 9.5 respectively\n",
    "- Mean and std deviation of wind direction are 23.04 and 6.4 respectively\n",
    "- Mean and std deviation of wind speed are 16.18 and 6.7 respectively\n",
    "- Mean and std deviation of stn press are 100.83 and 0.96 respectively\n",
    "- Mean and std deviation of Number of hours working in the office are 5.377 and 3.77 respectively\n",
    "- Mean and std deviation of Number of hours headache are 0.47 and 1.8 respectively\n",
    "- Mean and std deviation of Number of workout hours are 0.081 and 0.27 respectively"
   ]
  },
  {
   "cell_type": "markdown",
   "metadata": {},
   "source": [
    "#### Median of Numerical datatype"
   ]
  },
  {
   "cell_type": "code",
   "execution_count": 50,
   "metadata": {},
   "outputs": [
    {
     "name": "stdout",
     "output_type": "stream",
     "text": [
      "Median of Temp : 7.52\n",
      "Median of Dew_Point_Temp : 3.8225000000000002\n",
      "Median of Humidity: 76.0825\n",
      "Median of Work Schdule hours  : 8.0\n",
      "Median of No_of_Hours_Workout : 0.0\n"
     ]
    }
   ],
   "source": [
    "temp_median = data_journal_weather_2019[\"Temp\"].median()\n",
    "Dew_Point_Temp_median = data_journal_weather_2019[\"Dew_Point_Temp\"].median()\n",
    "Humidity_median = data_journal_weather_2019[\"Humidity\"].median()\n",
    "No_of_office_working_hours_median = data_journal_weather_2019[\"Work Schdule hours\"].median()\n",
    "No_of_Hours_Workout_median = data_journal_weather_2019[\"No. of Hours Workout\"].median()\n",
    "\n",
    "\n",
    "print(\"Median of Temp :\", temp_median)\n",
    "print(\"Median of Dew_Point_Temp :\", Dew_Point_Temp_median)\n",
    "print(\"Median of Humidity:\", Humidity_median)\n",
    "print(\"Median of Work Schdule hours  :\", No_of_office_working_hours_median)\n",
    "print(\"Median of No_of_Hours_Workout :\", No_of_Hours_Workout_median)"
   ]
  },
  {
   "cell_type": "markdown",
   "metadata": {},
   "source": [
    "### 3.2 Distribution of Headache Classes"
   ]
  },
  {
   "cell_type": "code",
   "execution_count": 51,
   "metadata": {},
   "outputs": [
    {
     "data": {
      "image/png": "[encoded data removed]",
      "text/plain": [
       "<Figure size 432x288 with 1 Axes>"
      ]
     },
     "metadata": {
      "needs_background": "light"
     },
     "output_type": "display_data"
    }
   ],
   "source": [
    "ax = sns.countplot(x=\"Headache\", data = data_journal_weather_2019)"
   ]
  },
  {
   "cell_type": "markdown",
   "metadata": {},
   "source": [
    "- Here 0 indicates no headache and 1 indicates that student has headache\n",
    "- After seeing above graph we can confirm that our data set is imbalanced "
   ]
  },
  {
   "cell_type": "markdown",
   "metadata": {},
   "source": [
    "### 3.3 Headache Distribution By Days of Week"
   ]
  },
  {
   "cell_type": "code",
   "execution_count": 52,
   "metadata": {
    "scrolled": true
   },
   "outputs": [
    {
     "data": {
      "image/png": "[encoded data removed]",
      "text/plain": [
       "<Figure size 864x360 with 1 Axes>"
      ]
     },
     "metadata": {
      "needs_background": "light"
     },
     "output_type": "display_data"
    }
   ],
   "source": [
    "plt.figure(figsize = (12,5))\n",
    "ax = sns.countplot(x=\"Days\", hue = data_journal_weather_2019[\"Headache\"],data = data_journal_weather_2019)"
   ]
  },
  {
   "cell_type": "markdown",
   "metadata": {},
   "source": [
    "- From above graph we can see that student was having headache mostly on week days with friday tuesday and sunday being among the heighest"
   ]
  },
  {
   "cell_type": "markdown",
   "metadata": {},
   "source": [
    "### 3.4 Hours of Headache Distributed By Days of Week"
   ]
  },
  {
   "cell_type": "code",
   "execution_count": 53,
   "metadata": {},
   "outputs": [
    {
     "data": {
      "image/png": "[encoded data removed]",
      "text/plain": [
       "<Figure size 864x360 with 1 Axes>"
      ]
     },
     "metadata": {
      "needs_background": "light"
     },
     "output_type": "display_data"
    }
   ],
   "source": [
    "plt.figure(figsize = (12,5))\n",
    "ax = sns.countplot(x=\"Days\", hue = data_journal_weather_2019[\"No. of hours Headache\"],data = data_journal_weather_2019)"
   ]
  },
  {
   "cell_type": "markdown",
   "metadata": {},
   "source": [
    "- The student had maximum hours of headache on wednesday of 14 hours(Severe Headache)"
   ]
  },
  {
   "cell_type": "markdown",
   "metadata": {},
   "source": [
    "### 3.5 Headache Distribution By Temperature Range"
   ]
  },
  {
   "cell_type": "code",
   "execution_count": null,
   "metadata": {},
   "outputs": [],
   "source": [
    "bins = [-8,-7,-3,0,3,7,10,13,19, np.inf]\n",
    "names = [\"-8_-7\",\"-7_-3\",\"-3_0\",\"0_3\",\"3_7\",\"7_10\",\"10_13\",\"13_19\",\"19+\"]\n",
    "data = pd.DataFrame(columns = ['Temp_range', \"Headache\"])\n",
    "data[\"Headache\"] = data_journal_weather_2019[\"Headache\"]\n",
    "data[\"Temp_range\"] = pd.cut(data_journal_weather_2019[\"Temp\"], bins, labels = names)"
   ]
  },
  {
   "cell_type": "code",
   "execution_count": 55,
   "metadata": {
    "scrolled": true
   },
   "outputs": [
    {
     "data": {
      "image/png": "[encoded data removed]",
      "text/plain": [
       "<Figure size 864x360 with 1 Axes>"
      ]
     },
     "metadata": {
      "needs_background": "light"
     },
     "output_type": "display_data"
    }
   ],
   "source": [
    "plt.figure(figsize = (12,5))\n",
    "ax = sns.countplot(x=\"Temp_range\", hue = data[\"Headache\"],data = data)"
   ]
  },
  {
   "cell_type": "markdown",
   "metadata": {},
   "source": [
    "- From the above graph we can see that the student was having more headaches between 13-19 degree celcius Temperature"
   ]
  },
  {
   "cell_type": "markdown",
   "metadata": {},
   "source": [
    "### 3.6 Headache Distribution By Humidity Range"
   ]
  },
  {
   "cell_type": "code",
   "execution_count": 56,
   "metadata": {},
   "outputs": [],
   "source": [
    "bins = [30,40,50,60,65,70,75,80,85,90, 94, np.inf]\n",
    "names = [\"30-40\",\"40-50\",\"50-60\",\"60-65\",\"65-70\",\"70-75\",\"75-80\",\"80-85\",\"85-90\",\"90-95\",\"95+\"]\n",
    "data = pd.DataFrame(columns = ['Humidity_range', \"Headache\"])\n",
    "data[\"Headache\"] = data_journal_weather_2019[\"Headache\"]\n",
    "data[\"Humidity_range\"] = pd.cut(data_journal_weather_2019[\"Humidity\"], bins, labels = names)"
   ]
  },
  {
   "cell_type": "code",
   "execution_count": 57,
   "metadata": {
    "scrolled": true
   },
   "outputs": [
    {
     "data": {
      "image/png": "[encoded data removed]",
      "text/plain": [
       "<Figure size 864x360 with 1 Axes>"
      ]
     },
     "metadata": {
      "needs_background": "light"
     },
     "output_type": "display_data"
    }
   ],
   "source": [
    "plt.figure(figsize = (12,5))\n",
    "ax = sns.countplot(x=\"Humidity_range\", hue = data[\"Headache\"],data = data)"
   ]
  },
  {
   "cell_type": "markdown",
   "metadata": {},
   "source": [
    "- From the above graph we can see that the student was having more headaches between 75-80 percentage of humidity"
   ]
  },
  {
   "cell_type": "markdown",
   "metadata": {},
   "source": [
    "### 3.7 Headache Distribution By Wind Speed"
   ]
  },
  {
   "cell_type": "code",
   "execution_count": 58,
   "metadata": {},
   "outputs": [],
   "source": [
    "bins = [6,10,15,20,25,30,35 ,np.inf]\n",
    "names = [\"6-10\",\"10-15\",\"15-20\",\"20-25\",\"25-30\",\"30-35\",\"35+\"]\n",
    "data = pd.DataFrame(columns = ['wind_spd_range', \"Headache\"])\n",
    "data[\"Headache\"] = data_journal_weather_2019[\"Headache\"]\n",
    "data[\"wind_spd_range\"] = pd.cut(data_journal_weather_2019[\"Wind_Spd\"], bins, labels = names)"
   ]
  },
  {
   "cell_type": "code",
   "execution_count": 59,
   "metadata": {},
   "outputs": [
    {
     "data": {
      "image/png": "[encoded data removed]",
      "text/plain": [
       "<Figure size 864x360 with 1 Axes>"
      ]
     },
     "metadata": {
      "needs_background": "light"
     },
     "output_type": "display_data"
    }
   ],
   "source": [
    "plt.figure(figsize = (12,5))\n",
    "ax = sns.countplot(x=\"wind_spd_range\", hue = data[\"Headache\"],data = data)"
   ]
  },
  {
   "cell_type": "markdown",
   "metadata": {},
   "source": [
    "- From the above graph we can see that the student had the maximum number of headache when wind speed was in range between 10-15"
   ]
  },
  {
   "cell_type": "markdown",
   "metadata": {},
   "source": [
    "### 3.8 Numerical Features Histogram"
   ]
  },
  {
   "cell_type": "code",
   "execution_count": 60,
   "metadata": {
    "scrolled": true
   },
   "outputs": [
    {
     "data": {
      "image/png": "[encoded data removed]",
      "text/plain": [
       "<Figure size 1440x1080 with 9 Axes>"
      ]
     },
     "metadata": {
      "needs_background": "light"
     },
     "output_type": "display_data"
    }
   ],
   "source": [
    "data = data_journal_weather_2019\n",
    "data = data.drop([\"Date\", \"Headache\"],axis = 1)\n",
    "num_bins = 20\n",
    "data.hist(bins = num_bins, figsize =(20,15))\n",
    "plt.show()"
   ]
  },
  {
   "cell_type": "markdown",
   "metadata": {},
   "source": [
    "-  The above histogram shows the features such as Dew_point_temp, Humidity, Temp, Wind_Spd, stn_press , and Wind_dir have good distribution but some of them are slightly skewed\n",
    "- Other features such as No. of office working hours, No. of hours of work_out, does not show good distribution"
   ]
  },
  {
   "cell_type": "markdown",
   "metadata": {},
   "source": [
    "## 4 Feature Selection"
   ]
  },
  {
   "cell_type": "markdown",
   "metadata": {},
   "source": [
    "### 4.1 Correlation Analysis of Training Set"
   ]
  },
  {
   "cell_type": "code",
   "execution_count": 61,
   "metadata": {},
   "outputs": [],
   "source": [
    "data = data_journal_weather_2019\n",
    "data = data.drop([\"Date\"],axis = 1)"
   ]
  },
  {
   "cell_type": "code",
   "execution_count": 62,
   "metadata": {},
   "outputs": [
    {
     "data": {
      "text/html": [
       "<div>\n",
       "<style scoped>\n",
       "    .dataframe tbody tr th:only-of-type {\n",
       "        vertical-align: middle;\n",
       "    }\n",
       "\n",
       "    .dataframe tbody tr th {\n",
       "        vertical-align: top;\n",
       "    }\n",
       "\n",
       "    .dataframe thead th {\n",
       "        text-align: right;\n",
       "    }\n",
       "</style>\n",
       "<table border=\"1\" class=\"dataframe\">\n",
       "  <thead>\n",
       "    <tr style=\"text-align: right;\">\n",
       "      <th></th>\n",
       "      <th>Temp</th>\n",
       "      <th>Dew_Point_Temp</th>\n",
       "      <th>Humidity</th>\n",
       "      <th>Wind_Spd</th>\n",
       "      <th>Severity of Headache</th>\n",
       "      <th>Work Schdule hours</th>\n",
       "      <th>No. of hours Headache</th>\n",
       "      <th>No. of Hours Workout</th>\n",
       "      <th>Headache</th>\n",
       "    </tr>\n",
       "  </thead>\n",
       "  <tbody>\n",
       "    <tr>\n",
       "      <th>Temp</th>\n",
       "      <td>1.000000</td>\n",
       "      <td>0.965405</td>\n",
       "      <td>0.158414</td>\n",
       "      <td>-0.127300</td>\n",
       "      <td>0.117364</td>\n",
       "      <td>0.030457</td>\n",
       "      <td>0.113127</td>\n",
       "      <td>0.106350</td>\n",
       "      <td>0.124870</td>\n",
       "    </tr>\n",
       "    <tr>\n",
       "      <th>Dew_Point_Temp</th>\n",
       "      <td>0.965405</td>\n",
       "      <td>1.000000</td>\n",
       "      <td>0.408089</td>\n",
       "      <td>-0.073999</td>\n",
       "      <td>0.117851</td>\n",
       "      <td>0.070704</td>\n",
       "      <td>0.107427</td>\n",
       "      <td>0.080121</td>\n",
       "      <td>0.137563</td>\n",
       "    </tr>\n",
       "    <tr>\n",
       "      <th>Humidity</th>\n",
       "      <td>0.158414</td>\n",
       "      <td>0.408089</td>\n",
       "      <td>1.000000</td>\n",
       "      <td>0.146586</td>\n",
       "      <td>0.043254</td>\n",
       "      <td>0.160410</td>\n",
       "      <td>0.020539</td>\n",
       "      <td>-0.076695</td>\n",
       "      <td>0.091969</td>\n",
       "    </tr>\n",
       "    <tr>\n",
       "      <th>Wind_Spd</th>\n",
       "      <td>-0.127300</td>\n",
       "      <td>-0.073999</td>\n",
       "      <td>0.146586</td>\n",
       "      <td>1.000000</td>\n",
       "      <td>0.083495</td>\n",
       "      <td>-0.017742</td>\n",
       "      <td>0.049391</td>\n",
       "      <td>-0.029461</td>\n",
       "      <td>0.129182</td>\n",
       "    </tr>\n",
       "    <tr>\n",
       "      <th>Severity of Headache</th>\n",
       "      <td>0.117364</td>\n",
       "      <td>0.117851</td>\n",
       "      <td>0.043254</td>\n",
       "      <td>0.083495</td>\n",
       "      <td>1.000000</td>\n",
       "      <td>0.031060</td>\n",
       "      <td>0.898858</td>\n",
       "      <td>0.149552</td>\n",
       "      <td>0.974143</td>\n",
       "    </tr>\n",
       "    <tr>\n",
       "      <th>Work Schdule hours</th>\n",
       "      <td>0.030457</td>\n",
       "      <td>0.070704</td>\n",
       "      <td>0.160410</td>\n",
       "      <td>-0.017742</td>\n",
       "      <td>0.031060</td>\n",
       "      <td>1.000000</td>\n",
       "      <td>-0.009296</td>\n",
       "      <td>-0.057531</td>\n",
       "      <td>0.017739</td>\n",
       "    </tr>\n",
       "    <tr>\n",
       "      <th>No. of hours Headache</th>\n",
       "      <td>0.113127</td>\n",
       "      <td>0.107427</td>\n",
       "      <td>0.020539</td>\n",
       "      <td>0.049391</td>\n",
       "      <td>0.898858</td>\n",
       "      <td>-0.009296</td>\n",
       "      <td>1.000000</td>\n",
       "      <td>0.173865</td>\n",
       "      <td>0.861168</td>\n",
       "    </tr>\n",
       "    <tr>\n",
       "      <th>No. of Hours Workout</th>\n",
       "      <td>0.106350</td>\n",
       "      <td>0.080121</td>\n",
       "      <td>-0.076695</td>\n",
       "      <td>-0.029461</td>\n",
       "      <td>0.149552</td>\n",
       "      <td>-0.057531</td>\n",
       "      <td>0.173865</td>\n",
       "      <td>1.000000</td>\n",
       "      <td>0.161104</td>\n",
       "    </tr>\n",
       "    <tr>\n",
       "      <th>Headache</th>\n",
       "      <td>0.124870</td>\n",
       "      <td>0.137563</td>\n",
       "      <td>0.091969</td>\n",
       "      <td>0.129182</td>\n",
       "      <td>0.974143</td>\n",
       "      <td>0.017739</td>\n",
       "      <td>0.861168</td>\n",
       "      <td>0.161104</td>\n",
       "      <td>1.000000</td>\n",
       "    </tr>\n",
       "  </tbody>\n",
       "</table>\n",
       "</div>"
      ],
      "text/plain": [
       "                           Temp  Dew_Point_Temp  Humidity  Wind_Spd  \\\n",
       "Temp                   1.000000        0.965405  0.158414 -0.127300   \n",
       "Dew_Point_Temp         0.965405        1.000000  0.408089 -0.073999   \n",
       "Humidity               0.158414        0.408089  1.000000  0.146586   \n",
       "Wind_Spd              -0.127300       -0.073999  0.146586  1.000000   \n",
       "Severity of Headache   0.117364        0.117851  0.043254  0.083495   \n",
       "Work Schdule hours     0.030457        0.070704  0.160410 -0.017742   \n",
       "No. of hours Headache  0.113127        0.107427  0.020539  0.049391   \n",
       "No. of Hours Workout   0.106350        0.080121 -0.076695 -0.029461   \n",
       "Headache               0.124870        0.137563  0.091969  0.129182   \n",
       "\n",
       "                       Severity of Headache  Work Schdule hours  \\\n",
       "Temp                               0.117364            0.030457   \n",
       "Dew_Point_Temp                     0.117851            0.070704   \n",
       "Humidity                           0.043254            0.160410   \n",
       "Wind_Spd                           0.083495           -0.017742   \n",
       "Severity of Headache               1.000000            0.031060   \n",
       "Work Schdule hours                 0.031060            1.000000   \n",
       "No. of hours Headache              0.898858           -0.009296   \n",
       "No. of Hours Workout               0.149552           -0.057531   \n",
       "Headache                           0.974143            0.017739   \n",
       "\n",
       "                       No. of hours Headache  No. of Hours Workout  Headache  \n",
       "Temp                                0.113127              0.106350  0.124870  \n",
       "Dew_Point_Temp                      0.107427              0.080121  0.137563  \n",
       "Humidity                            0.020539             -0.076695  0.091969  \n",
       "Wind_Spd                            0.049391             -0.029461  0.129182  \n",
       "Severity of Headache                0.898858              0.149552  0.974143  \n",
       "Work Schdule hours                 -0.009296             -0.057531  0.017739  \n",
       "No. of hours Headache               1.000000              0.173865  0.861168  \n",
       "No. of Hours Workout                0.173865              1.000000  0.161104  \n",
       "Headache                            0.861168              0.161104  1.000000  "
      ]
     },
     "execution_count": 62,
     "metadata": {},
     "output_type": "execute_result"
    },
    {
     "data": {
      "image/png": "[encoded data removed]",
      "text/plain": [
       "<Figure size 1440x720 with 2 Axes>"
      ]
     },
     "metadata": {
      "needs_background": "light"
     },
     "output_type": "display_data"
    }
   ],
   "source": [
    "plt.figure(figsize =(20,10))\n",
    "corr_plot = data.corr()\n",
    "sns.heatmap(corr_plot, cmap = \"BrBG\", annot = True)\n",
    "corr_plot"
   ]
  },
  {
   "cell_type": "markdown",
   "metadata": {},
   "source": [
    "- By looking the above co-related plot we can see that features such as Temp and Dew_point_temp is highly correlated and we will drop one of them\n",
    "\n",
    "- From the above plot is also cleared that the target label \"Headache\" is highly correlated with \"severity of Headache\" and \"Number of hour of headache\" because all the three varibales (headache, severity of headache, Number of hours of headache) represent the same thing. Hence headache and severity of headache will be dropped."
   ]
  },
  {
   "cell_type": "markdown",
   "metadata": {},
   "source": [
    "### 4.2 Finalized Features"
   ]
  },
  {
   "cell_type": "code",
   "execution_count": 63,
   "metadata": {},
   "outputs": [],
   "source": [
    "data = data_journal_weather_2019\n",
    "y = data_journal_weather_2019[\"Headache\"]"
   ]
  },
  {
   "cell_type": "code",
   "execution_count": 64,
   "metadata": {},
   "outputs": [],
   "source": [
    "# From the corelation plot we saw that there is high corelation between the target label \"Headache\" and features \"severity of Headache\",\"No. of Hours of headache\" Hence they will be dropped\n",
    "data = data.drop([\"Date\",\"Headache\",\"Days\",\"Severity of Headache\",\"No. of hours Headache\"], axis = 1)\n"
   ]
  },
  {
   "cell_type": "code",
   "execution_count": 65,
   "metadata": {},
   "outputs": [],
   "source": [
    "param = SelectKBest(score_func = f_classif, k = 6)\n",
    "data_fit = param.fit(data,y)\n",
    "data_scores = pd.DataFrame(data_fit.scores_)\n",
    "data_columns = pd.DataFrame(data.columns)\n",
    "feature_scores_columns = pd.concat([data_columns,data_scores], axis = 1)\n",
    "feature_scores_columns.columns = [\"Feature\",\"Feature_score\"]\n"
   ]
  },
  {
   "cell_type": "code",
   "execution_count": 66,
   "metadata": {},
   "outputs": [
    {
     "data": {
      "text/html": [
       "<div>\n",
       "<style scoped>\n",
       "    .dataframe tbody tr th:only-of-type {\n",
       "        vertical-align: middle;\n",
       "    }\n",
       "\n",
       "    .dataframe tbody tr th {\n",
       "        vertical-align: top;\n",
       "    }\n",
       "\n",
       "    .dataframe thead th {\n",
       "        text-align: right;\n",
       "    }\n",
       "</style>\n",
       "<table border=\"1\" class=\"dataframe\">\n",
       "  <thead>\n",
       "    <tr style=\"text-align: right;\">\n",
       "      <th></th>\n",
       "      <th>Feature</th>\n",
       "      <th>Feature_score</th>\n",
       "    </tr>\n",
       "  </thead>\n",
       "  <tbody>\n",
       "    <tr>\n",
       "      <th>0</th>\n",
       "      <td>Temp</td>\n",
       "      <td>1.900727</td>\n",
       "    </tr>\n",
       "    <tr>\n",
       "      <th>1</th>\n",
       "      <td>Dew_Point_Temp</td>\n",
       "      <td>2.314639</td>\n",
       "    </tr>\n",
       "    <tr>\n",
       "      <th>2</th>\n",
       "      <td>Humidity</td>\n",
       "      <td>1.023656</td>\n",
       "    </tr>\n",
       "    <tr>\n",
       "      <th>3</th>\n",
       "      <td>Wind_Spd</td>\n",
       "      <td>2.036560</td>\n",
       "    </tr>\n",
       "    <tr>\n",
       "      <th>4</th>\n",
       "      <td>Work Schdule hours</td>\n",
       "      <td>0.037773</td>\n",
       "    </tr>\n",
       "    <tr>\n",
       "      <th>5</th>\n",
       "      <td>No. of Hours Workout</td>\n",
       "      <td>3.197544</td>\n",
       "    </tr>\n",
       "  </tbody>\n",
       "</table>\n",
       "</div>"
      ],
      "text/plain": [
       "                Feature  Feature_score\n",
       "0                  Temp       1.900727\n",
       "1        Dew_Point_Temp       2.314639\n",
       "2              Humidity       1.023656\n",
       "3              Wind_Spd       2.036560\n",
       "4    Work Schdule hours       0.037773\n",
       "5  No. of Hours Workout       3.197544"
      ]
     },
     "execution_count": 66,
     "metadata": {},
     "output_type": "execute_result"
    }
   ],
   "source": [
    "feature_scores_columns"
   ]
  },
  {
   "cell_type": "markdown",
   "metadata": {},
   "source": [
    "##### Dropping Unnecessary Features"
   ]
  },
  {
   "cell_type": "code",
   "execution_count": 67,
   "metadata": {},
   "outputs": [],
   "source": [
    "data_journal_weather_2019 = data_journal_weather_2019.drop([\"Dew_Point_Temp\",\"Date\",\"Days\",\"Severity of Headache\",\"No. of hours Headache\"], axis = 1)\n",
    "prediction_data_journal_weather_2020 = prediction_data_journal_weather_2020.drop([\"Date\",\"Dew_Point_Temp\"], axis = 1)"
   ]
  },
  {
   "cell_type": "markdown",
   "metadata": {},
   "source": [
    "## 5 Model Building"
   ]
  },
  {
   "cell_type": "markdown",
   "metadata": {},
   "source": [
    "#### Splitting the Data"
   ]
  },
  {
   "cell_type": "code",
   "execution_count": 68,
   "metadata": {},
   "outputs": [],
   "source": [
    "X_train, X_test, y_train, y_test = train_test_split(data_journal_weather_2019.drop(\"Headache\", axis = 1), data_journal_weather_2019[\"Headache\"],\n",
    "                                                   test_size = 0.2, random_state = 40, stratify = data_journal_weather_2019[\"Headache\"] )"
   ]
  },
  {
   "cell_type": "code",
   "execution_count": 69,
   "metadata": {},
   "outputs": [
    {
     "name": "stdout",
     "output_type": "stream",
     "text": [
      "Train data shape (97, 5)\n",
      "Test data shape (25, 5)\n"
     ]
    }
   ],
   "source": [
    "print(\"Train data shape\", X_train.shape)\n",
    "print(\"Test data shape\", X_test.shape)"
   ]
  },
  {
   "cell_type": "markdown",
   "metadata": {},
   "source": [
    "#### Storing column names in a list"
   ]
  },
  {
   "cell_type": "code",
   "execution_count": 70,
   "metadata": {},
   "outputs": [],
   "source": [
    "a = []\n",
    "var = []\n",
    "j = 0\n",
    "\n",
    "for i in X_train.columns:\n",
    "    b = []\n",
    "    var.append(i)\n",
    "    b.append(j)\n",
    "    b.append(i)\n",
    "    a.append(b)\n",
    "    j = j+1"
   ]
  },
  {
   "cell_type": "code",
   "execution_count": 71,
   "metadata": {
    "scrolled": true
   },
   "outputs": [
    {
     "name": "stdout",
     "output_type": "stream",
     "text": [
      "[[0, 'Temp'], [1, 'Humidity'], [2, 'Wind_Spd'], [3, 'Work Schdule hours'], [4, 'No. of Hours Workout']]\n"
     ]
    }
   ],
   "source": [
    "print(a)"
   ]
  },
  {
   "cell_type": "markdown",
   "metadata": {},
   "source": [
    "### 5.1 Feature Engineering"
   ]
  },
  {
   "cell_type": "code",
   "execution_count": 72,
   "metadata": {},
   "outputs": [],
   "source": [
    "scaling = StandardScaler()"
   ]
  },
  {
   "cell_type": "code",
   "execution_count": 73,
   "metadata": {},
   "outputs": [],
   "source": [
    "scaling.fit(X_train[var])\n",
    "X_train = scaling.transform(X_train[var])\n",
    "X_test = scaling.transform(X_test[var])\n",
    "prediction_data_journal_weather_2020 = scaling.transform(prediction_data_journal_weather_2020 [var])"
   ]
  },
  {
   "cell_type": "markdown",
   "metadata": {},
   "source": [
    "### 5.2 Decision Tree With Default Parameters"
   ]
  },
  {
   "cell_type": "code",
   "execution_count": 74,
   "metadata": {},
   "outputs": [],
   "source": [
    "clf1 = DecisionTreeClassifier()"
   ]
  },
  {
   "cell_type": "code",
   "execution_count": 75,
   "metadata": {},
   "outputs": [],
   "source": [
    "clf1.fit(X_train, y_train)\n",
    "\n",
    "y_test_pred = clf1.predict(X_test)"
   ]
  },
  {
   "cell_type": "code",
   "execution_count": 69,
   "metadata": {},
   "outputs": [
    {
     "name": "stdout",
     "output_type": "stream",
     "text": [
      "F1 score of the model: 81.77777777777779\n",
      "Accuracy of the model: 80.0\n",
      "Precision score of the model : 83.63636363636364\n",
      "Recall Score of the model : 80.0\n",
      "Confusion matrix of the model : \n",
      " [[20  3]\n",
      " [ 2  0]]\n"
     ]
    }
   ],
   "source": [
    "print(\"F1 score of the model:\", f1_score(y_test,y_test_pred, average =\"weighted\")*100)\n",
    "print(\"Accuracy of the model:\", accuracy_score(y_test,y_test_pred)*100)\n",
    "print(\"Precision score of the model :\", precision_score(y_test,y_test_pred, average =\"weighted\")*100)\n",
    "print(\"Recall Score of the model :\", recall_score(y_test,y_test_pred, average =\"weighted\")*100)\n",
    "print(\"Confusion matrix of the model : \\n\", confusion_matrix(y_test,y_test_pred))"
   ]
  },
  {
   "cell_type": "code",
   "execution_count": 79,
   "metadata": {},
   "outputs": [],
   "source": [
    "#Prediction on sept 2020 data probablities\n",
    "y_test_prob1 = clf1.predict_proba(prediction_data_journal_weather_2020)"
   ]
  },
  {
   "cell_type": "code",
   "execution_count": 83,
   "metadata": {},
   "outputs": [],
   "source": [
    "savetxt(\"y_test_prob1.csv\", y_test_prob1, delimiter= \",\")"
   ]
  },
  {
   "cell_type": "markdown",
   "metadata": {},
   "source": [
    "- Feature importance for Base line decision tree"
   ]
  },
  {
   "cell_type": "code",
   "execution_count": 71,
   "metadata": {},
   "outputs": [
    {
     "data": {
      "image/png": "[encoded data removed]",
      "text/plain": [
       "<Figure size 720x360 with 1 Axes>"
      ]
     },
     "metadata": {
      "needs_background": "light"
     },
     "output_type": "display_data"
    }
   ],
   "source": [
    "plt.figure(figsize = (10,5))\n",
    "plt.xlabel(\"Feature Weight\")\n",
    "plt.ylabel(\"Features\")\n",
    "importance = pd.Series(clf1.feature_importances_,index = var)\n",
    "importance.nlargest(20).plot(kind = 'barh').invert_yaxis()"
   ]
  },
  {
   "cell_type": "markdown",
   "metadata": {},
   "source": [
    "### 5.3 Decision Tree With Hyperparameter Tuning With Class Weight As Balanced"
   ]
  },
  {
   "cell_type": "code",
   "execution_count": 84,
   "metadata": {},
   "outputs": [],
   "source": [
    "max_depth = [int(x) for x in range(10)]\n",
    "max_depth.append(None)\n",
    "criterion = [\"gini\",\"entropy\"]\n",
    "min_samples_leaf = [1,2,3,4,5]\n",
    "min_samples_split = [1,2,3,4,5]\n",
    "max_features = [1,2,3,4,5]"
   ]
  },
  {
   "cell_type": "code",
   "execution_count": 85,
   "metadata": {},
   "outputs": [],
   "source": [
    "param_grid = {\"max_features\": max_features,\n",
    "                 \"max_depth\": max_depth,\n",
    "                 \"min_samples_leaf\": min_samples_leaf,\n",
    "                 \"min_samples_split\": min_samples_split,\n",
    "                 \"criterion\": criterion}"
   ]
  },
  {
   "cell_type": "code",
   "execution_count": null,
   "metadata": {},
   "outputs": [],
   "source": [
    "tree_clf = DecisionTreeClassifier(class_weight = \"balanced\")\n",
    "tree_clf_cv = GridSearchCV(tree_clf, param_grid= param_grid, verbose = 2, cv = 5, scoring = \"f1\", return_train_score= True)\n",
    "hyper_clf = tree_clf_cv.fit(X_train, y_train)"
   ]
  },
  {
   "cell_type": "code",
   "execution_count": 75,
   "metadata": {},
   "outputs": [
    {
     "name": "stdout",
     "output_type": "stream",
     "text": [
      "DecisionTreeClassifier(class_weight='balanced', criterion='entropy',\n",
      "                       max_features=2, min_samples_leaf=5, min_samples_split=3)\n"
     ]
    }
   ],
   "source": [
    "print(tree_clf_cv.best_estimator_)\n"
   ]
  },
  {
   "cell_type": "code",
   "execution_count": 87,
   "metadata": {},
   "outputs": [],
   "source": [
    "clf2 =DecisionTreeClassifier(class_weight='balanced', criterion='entropy',\n",
    "                       max_features=2, min_samples_leaf=5, min_samples_split=3)"
   ]
  },
  {
   "cell_type": "code",
   "execution_count": 88,
   "metadata": {},
   "outputs": [],
   "source": [
    "clf2.fit(X_train, y_train)\n",
    "\n",
    "y_test_pred = clf2.predict(X_test)"
   ]
  },
  {
   "cell_type": "code",
   "execution_count": 78,
   "metadata": {},
   "outputs": [
    {
     "name": "stdout",
     "output_type": "stream",
     "text": [
      "F1 score of the model: 75.19999999999999\n",
      "Accuracy of the model: 68.0\n",
      "Precision score of the model : 87.58823529411765\n",
      "Recall Score of the model : 68.0\n",
      "Confusion matrix of the model : \n",
      " [[16  7]\n",
      " [ 1  1]]\n"
     ]
    }
   ],
   "source": [
    "print(\"F1 score of the model:\", f1_score(y_test,y_test_pred, average =\"weighted\")*100)\n",
    "print(\"Accuracy of the model:\", accuracy_score(y_test,y_test_pred)*100)\n",
    "print(\"Precision score of the model :\", precision_score(y_test,y_test_pred, average =\"weighted\")*100)\n",
    "print(\"Recall Score of the model :\", recall_score(y_test,y_test_pred, average =\"weighted\")*100)\n",
    "print(\"Confusion matrix of the model : \\n\", confusion_matrix(y_test,y_test_pred))"
   ]
  },
  {
   "cell_type": "code",
   "execution_count": 89,
   "metadata": {},
   "outputs": [],
   "source": [
    "#Prediction on sept 2020 data probablities\n",
    "y_test_prob2 = clf2.predict_proba(prediction_data_journal_weather_2020)\n",
    "savetxt(\"y_test_prob2.csv\", y_test_prob2, delimiter= \",\")"
   ]
  },
  {
   "cell_type": "markdown",
   "metadata": {},
   "source": [
    "- Feature importance as class weight balanced"
   ]
  },
  {
   "cell_type": "code",
   "execution_count": 79,
   "metadata": {},
   "outputs": [
    {
     "data": {
      "image/png": "[encoded data removed]",
      "text/plain": [
       "<Figure size 720x360 with 1 Axes>"
      ]
     },
     "metadata": {
      "needs_background": "light"
     },
     "output_type": "display_data"
    }
   ],
   "source": [
    "plt.figure(figsize = (10,5))\n",
    "plt.xlabel(\"Feature Weight\")\n",
    "plt.ylabel(\"Features\")\n",
    "importance = pd.Series(clf2.feature_importances_,index = var)\n",
    "importance.nlargest(20).plot(kind = 'barh').invert_yaxis()"
   ]
  },
  {
   "cell_type": "markdown",
   "metadata": {},
   "source": [
    "### 5.4 Decision Tree With Oversampling of Training Data"
   ]
  },
  {
   "cell_type": "code",
   "execution_count": 91,
   "metadata": {},
   "outputs": [],
   "source": [
    "ros = RandomOverSampler(random_state=0)\n",
    "X_train, y_train = ros.fit_resample(X_train, y_train)"
   ]
  },
  {
   "cell_type": "code",
   "execution_count": 81,
   "metadata": {},
   "outputs": [],
   "source": [
    "max_depth = [int(x) for x in range(10)]\n",
    "max_depth.append(None)\n",
    "criterion = [\"gini\",\"entropy\"]\n",
    "min_samples_leaf = [1,2,3,4,5]\n",
    "min_samples_split = [1,2,3,4,5]\n",
    "max_features = [1,2,3,4,5]"
   ]
  },
  {
   "cell_type": "code",
   "execution_count": 82,
   "metadata": {},
   "outputs": [],
   "source": [
    "param_grid = {\"max_features\": max_features,\n",
    "                 \"max_depth\": max_depth,\n",
    "                 \"min_samples_leaf\": min_samples_leaf,\n",
    "                 \"min_samples_split\": min_samples_split,\n",
    "                 \"criterion\": criterion}"
   ]
  },
  {
   "cell_type": "code",
   "execution_count": null,
   "metadata": {},
   "outputs": [],
   "source": [
    "tree_clf = DecisionTreeClassifier(class_weight = \"balanced\")\n",
    "tree_clf_cv = GridSearchCV(tree_clf, param_grid= param_grid, verbose = 2, cv = 5, scoring = \"f1\", return_train_score= True)\n",
    "hyper_clf = tree_clf_cv.fit(X_train, y_train)"
   ]
  },
  {
   "cell_type": "code",
   "execution_count": 84,
   "metadata": {
    "scrolled": true
   },
   "outputs": [
    {
     "name": "stdout",
     "output_type": "stream",
     "text": [
      "DecisionTreeClassifier(class_weight='balanced', max_features=5,\n",
      "                       min_samples_split=4)\n"
     ]
    }
   ],
   "source": [
    "print(tree_clf_cv.best_estimator_)"
   ]
  },
  {
   "cell_type": "code",
   "execution_count": 92,
   "metadata": {},
   "outputs": [],
   "source": [
    "clf3 = DecisionTreeClassifier(class_weight='balanced', max_features=5,\n",
    "                       min_samples_split=4)"
   ]
  },
  {
   "cell_type": "code",
   "execution_count": 93,
   "metadata": {},
   "outputs": [],
   "source": [
    "clf3.fit(X_train, y_train)\n",
    "\n",
    "y_test_pred = clf3.predict(X_test)"
   ]
  },
  {
   "cell_type": "code",
   "execution_count": 87,
   "metadata": {},
   "outputs": [
    {
     "name": "stdout",
     "output_type": "stream",
     "text": [
      "F1 score of the model: 81.77777777777779\n",
      "Accuracy of the model: 80.0\n",
      "Precision score of the model : 83.63636363636364\n",
      "Recall Score of the model : 80.0\n",
      "Confusion matrix of the model : \n",
      " [[20  3]\n",
      " [ 2  0]]\n"
     ]
    }
   ],
   "source": [
    "print(\"F1 score of the model:\", f1_score(y_test,y_test_pred, average =\"weighted\")*100)\n",
    "print(\"Accuracy of the model:\", accuracy_score(y_test,y_test_pred)*100)\n",
    "print(\"Precision score of the model :\", precision_score(y_test,y_test_pred, average =\"weighted\")*100)\n",
    "print(\"Recall Score of the model :\", recall_score(y_test,y_test_pred, average =\"weighted\")*100)\n",
    "print(\"Confusion matrix of the model : \\n\", confusion_matrix(y_test,y_test_pred))"
   ]
  },
  {
   "cell_type": "code",
   "execution_count": 94,
   "metadata": {},
   "outputs": [],
   "source": [
    "#Prediction on sept 2020 data probablities\n",
    "y_test_prob3 = clf3.predict_proba(prediction_data_journal_weather_2020)\n",
    "savetxt(\"y_test_prob3.csv\", y_test_prob3, delimiter= \",\")"
   ]
  },
  {
   "cell_type": "markdown",
   "metadata": {},
   "source": [
    "- Feature importance of oversampled classifier"
   ]
  },
  {
   "cell_type": "code",
   "execution_count": 88,
   "metadata": {},
   "outputs": [
    {
     "data": {
      "image/png": "[encoded data removed]",
      "text/plain": [
       "<Figure size 720x360 with 1 Axes>"
      ]
     },
     "metadata": {
      "needs_background": "light"
     },
     "output_type": "display_data"
    }
   ],
   "source": [
    "plt.figure(figsize = (10,5))\n",
    "plt.xlabel(\"Feature Weight\")\n",
    "plt.ylabel(\"Features\")\n",
    "importance = pd.Series(clf3.feature_importances_,index = var)\n",
    "importance.nlargest(20).plot(kind = 'barh').invert_yaxis()"
   ]
  },
  {
   "cell_type": "markdown",
   "metadata": {},
   "source": [
    "### 5.5 Decision Tree With Undersampling of Traning Data"
   ]
  },
  {
   "cell_type": "code",
   "execution_count": 74,
   "metadata": {},
   "outputs": [],
   "source": [
    "undersample = NearMiss()\n",
    "X_train, y_train = undersample.fit_resample(X_train, y_train)"
   ]
  },
  {
   "cell_type": "code",
   "execution_count": 75,
   "metadata": {},
   "outputs": [],
   "source": [
    "max_depth = [int(x) for x in range(10)]\n",
    "max_depth.append(None)\n",
    "criterion = [\"gini\",\"entropy\"]\n",
    "min_samples_leaf = [1,2,3,4,5]\n",
    "min_samples_split = [1,2,3,4,5]\n",
    "max_features = [1,2,3,4,5]"
   ]
  },
  {
   "cell_type": "code",
   "execution_count": 71,
   "metadata": {},
   "outputs": [],
   "source": [
    "param_grid = {\"max_features\": max_features,\n",
    "                 \"max_depth\": max_depth,\n",
    "                 \"min_samples_leaf\": min_samples_leaf,\n",
    "                 \"min_samples_split\": min_samples_split,\n",
    "                 \"criterion\": criterion}"
   ]
  },
  {
   "cell_type": "code",
   "execution_count": null,
   "metadata": {},
   "outputs": [],
   "source": [
    "tree_clf = DecisionTreeClassifier(class_weight = \"balanced\")\n",
    "tree_clf_cv = GridSearchCV(tree_clf, param_grid= param_grid, verbose = 2, cv = 5, scoring = \"f1\", return_train_score= True)\n",
    "hyper_clf = tree_clf_cv.fit(X_train, y_train)"
   ]
  },
  {
   "cell_type": "code",
   "execution_count": 73,
   "metadata": {
    "scrolled": true
   },
   "outputs": [
    {
     "name": "stdout",
     "output_type": "stream",
     "text": [
      "DecisionTreeClassifier(class_weight='balanced', criterion='entropy',\n",
      "                       max_depth=5, max_features=1, min_samples_split=4)\n",
      "Max f1 score on train data 80.0\n"
     ]
    }
   ],
   "source": [
    "print(tree_clf_cv.best_estimator_)\n",
    "print(\"Max f1 score on train data\", tree_clf_cv.best_score_*100)"
   ]
  },
  {
   "cell_type": "code",
   "execution_count": 76,
   "metadata": {},
   "outputs": [],
   "source": [
    "clf4 = DecisionTreeClassifier(class_weight='balanced', criterion='entropy',\n",
    "                       max_depth=5, max_features=1, min_samples_split=4)"
   ]
  },
  {
   "cell_type": "code",
   "execution_count": 78,
   "metadata": {},
   "outputs": [],
   "source": [
    "clf4.fit(X_train, y_train)\n",
    "\n",
    "y_test_pred = clf4.predict(X_test)"
   ]
  },
  {
   "cell_type": "code",
   "execution_count": 77,
   "metadata": {},
   "outputs": [
    {
     "name": "stdout",
     "output_type": "stream",
     "text": [
      "F1 score of the model: 28.65056360708535\n",
      "Accuracy of the model: 24.0\n",
      "Precision score of the model : 92.76190476190476\n",
      "Recall Score of the model : 24.0\n",
      "Confusion matrix of the model : \n",
      " [[ 4 19]\n",
      " [ 0  2]]\n"
     ]
    }
   ],
   "source": [
    "print(\"F1 score of the model:\", f1_score(y_test,y_test_pred, average =\"weighted\")*100)\n",
    "print(\"Accuracy of the model:\", accuracy_score(y_test,y_test_pred)*100)\n",
    "print(\"Precision score of the model :\", precision_score(y_test,y_test_pred, average =\"weighted\")*100)\n",
    "print(\"Recall Score of the model :\", recall_score(y_test,y_test_pred, average =\"weighted\")*100)\n",
    "print(\"Confusion matrix of the model : \\n\", confusion_matrix(y_test,y_test_pred))"
   ]
  },
  {
   "cell_type": "code",
   "execution_count": 79,
   "metadata": {},
   "outputs": [],
   "source": [
    "#Prediction on sept 2020 data probablities\n",
    "y_test_prob4 = clf4.predict_proba(prediction_data_journal_weather_2020)\n",
    "savetxt(\"y_test_prob4.csv\", y_test_prob4, delimiter= \",\")"
   ]
  },
  {
   "cell_type": "markdown",
   "metadata": {},
   "source": [
    "- Feature Importance of undersampled classifier"
   ]
  },
  {
   "cell_type": "code",
   "execution_count": 81,
   "metadata": {},
   "outputs": [
    {
     "data": {
      "image/png": "[encoded data removed]",
      "text/plain": [
       "<Figure size 720x360 with 1 Axes>"
      ]
     },
     "metadata": {
      "needs_background": "light"
     },
     "output_type": "display_data"
    }
   ],
   "source": [
    "plt.figure(figsize = (10,5))\n",
    "plt.xlabel(\"Feature Weight\")\n",
    "plt.ylabel(\"Features\")\n",
    "\n",
    "importance = pd.Series(clf4.feature_importances_,index = var)\n",
    "importance.nlargest(20).plot(kind = 'barh').invert_yaxis()"
   ]
  },
  {
   "cell_type": "markdown",
   "metadata": {},
   "source": [
    "## 6 Evaluation"
   ]
  },
  {
   "cell_type": "code",
   "execution_count": 166,
   "metadata": {},
   "outputs": [
    {
     "data": {
      "text/html": [
       "<div>\n",
       "<style scoped>\n",
       "    .dataframe tbody tr th:only-of-type {\n",
       "        vertical-align: middle;\n",
       "    }\n",
       "\n",
       "    .dataframe tbody tr th {\n",
       "        vertical-align: top;\n",
       "    }\n",
       "\n",
       "    .dataframe thead th {\n",
       "        text-align: right;\n",
       "    }\n",
       "</style>\n",
       "<table border=\"1\" class=\"dataframe\">\n",
       "  <thead>\n",
       "    <tr style=\"text-align: right;\">\n",
       "      <th></th>\n",
       "      <th>Date</th>\n",
       "      <th>Temp</th>\n",
       "      <th>Dew_Point_Temp</th>\n",
       "      <th>Humidity</th>\n",
       "      <th>Wind_Spd</th>\n",
       "      <th>Work Schdule hours</th>\n",
       "      <th>No. of Hours Workout</th>\n",
       "      <th>prob_no_headache</th>\n",
       "      <th>prob_headache</th>\n",
       "    </tr>\n",
       "  </thead>\n",
       "  <tbody>\n",
       "    <tr>\n",
       "      <th>0</th>\n",
       "      <td>2020-09-01</td>\n",
       "      <td>14.625</td>\n",
       "      <td>9.145</td>\n",
       "      <td>69.475</td>\n",
       "      <td>6.935</td>\n",
       "      <td>0</td>\n",
       "      <td>0</td>\n",
       "      <td>1.000000</td>\n",
       "      <td>0.00</td>\n",
       "    </tr>\n",
       "    <tr>\n",
       "      <th>1</th>\n",
       "      <td>2020-09-02</td>\n",
       "      <td>14.315</td>\n",
       "      <td>12.720</td>\n",
       "      <td>90.415</td>\n",
       "      <td>9.705</td>\n",
       "      <td>8</td>\n",
       "      <td>1</td>\n",
       "      <td>1.000000</td>\n",
       "      <td>0.00</td>\n",
       "    </tr>\n",
       "    <tr>\n",
       "      <th>2</th>\n",
       "      <td>2020-09-03</td>\n",
       "      <td>18.725</td>\n",
       "      <td>18.360</td>\n",
       "      <td>99.345</td>\n",
       "      <td>15.415</td>\n",
       "      <td>8</td>\n",
       "      <td>0</td>\n",
       "      <td>1.000000</td>\n",
       "      <td>0.00</td>\n",
       "    </tr>\n",
       "    <tr>\n",
       "      <th>3</th>\n",
       "      <td>2020-09-04</td>\n",
       "      <td>20.150</td>\n",
       "      <td>18.970</td>\n",
       "      <td>93.625</td>\n",
       "      <td>11.585</td>\n",
       "      <td>8</td>\n",
       "      <td>1</td>\n",
       "      <td>1.000000</td>\n",
       "      <td>0.00</td>\n",
       "    </tr>\n",
       "    <tr>\n",
       "      <th>4</th>\n",
       "      <td>2020-09-05</td>\n",
       "      <td>19.030</td>\n",
       "      <td>12.085</td>\n",
       "      <td>66.875</td>\n",
       "      <td>9.750</td>\n",
       "      <td>8</td>\n",
       "      <td>0</td>\n",
       "      <td>0.082474</td>\n",
       "      <td>0.92</td>\n",
       "    </tr>\n",
       "    <tr>\n",
       "      <th>5</th>\n",
       "      <td>2020-09-06</td>\n",
       "      <td>17.180</td>\n",
       "      <td>9.860</td>\n",
       "      <td>65.455</td>\n",
       "      <td>8.580</td>\n",
       "      <td>8</td>\n",
       "      <td>1</td>\n",
       "      <td>0.082474</td>\n",
       "      <td>0.92</td>\n",
       "    </tr>\n",
       "    <tr>\n",
       "      <th>6</th>\n",
       "      <td>2020-09-07</td>\n",
       "      <td>15.820</td>\n",
       "      <td>14.645</td>\n",
       "      <td>91.230</td>\n",
       "      <td>8.645</td>\n",
       "      <td>0</td>\n",
       "      <td>0</td>\n",
       "      <td>1.000000</td>\n",
       "      <td>0.00</td>\n",
       "    </tr>\n",
       "    <tr>\n",
       "      <th>7</th>\n",
       "      <td>2020-09-08</td>\n",
       "      <td>19.535</td>\n",
       "      <td>17.655</td>\n",
       "      <td>88.940</td>\n",
       "      <td>6.790</td>\n",
       "      <td>0</td>\n",
       "      <td>0</td>\n",
       "      <td>1.000000</td>\n",
       "      <td>0.00</td>\n",
       "    </tr>\n",
       "    <tr>\n",
       "      <th>8</th>\n",
       "      <td>2020-09-09</td>\n",
       "      <td>18.640</td>\n",
       "      <td>17.325</td>\n",
       "      <td>90.605</td>\n",
       "      <td>5.455</td>\n",
       "      <td>8</td>\n",
       "      <td>0</td>\n",
       "      <td>1.000000</td>\n",
       "      <td>0.00</td>\n",
       "    </tr>\n",
       "    <tr>\n",
       "      <th>9</th>\n",
       "      <td>2020-09-10</td>\n",
       "      <td>20.470</td>\n",
       "      <td>20.360</td>\n",
       "      <td>99.000</td>\n",
       "      <td>6.435</td>\n",
       "      <td>8</td>\n",
       "      <td>0</td>\n",
       "      <td>1.000000</td>\n",
       "      <td>0.00</td>\n",
       "    </tr>\n",
       "    <tr>\n",
       "      <th>10</th>\n",
       "      <td>2020-09-11</td>\n",
       "      <td>15.415</td>\n",
       "      <td>12.435</td>\n",
       "      <td>84.915</td>\n",
       "      <td>14.855</td>\n",
       "      <td>8</td>\n",
       "      <td>0</td>\n",
       "      <td>1.000000</td>\n",
       "      <td>0.00</td>\n",
       "    </tr>\n",
       "    <tr>\n",
       "      <th>11</th>\n",
       "      <td>2020-09-12</td>\n",
       "      <td>13.850</td>\n",
       "      <td>8.270</td>\n",
       "      <td>72.670</td>\n",
       "      <td>6.460</td>\n",
       "      <td>8</td>\n",
       "      <td>0</td>\n",
       "      <td>0.118812</td>\n",
       "      <td>0.88</td>\n",
       "    </tr>\n",
       "    <tr>\n",
       "      <th>12</th>\n",
       "      <td>2020-09-13</td>\n",
       "      <td>15.890</td>\n",
       "      <td>12.515</td>\n",
       "      <td>81.395</td>\n",
       "      <td>10.940</td>\n",
       "      <td>8</td>\n",
       "      <td>0</td>\n",
       "      <td>1.000000</td>\n",
       "      <td>0.00</td>\n",
       "    </tr>\n",
       "    <tr>\n",
       "      <th>13</th>\n",
       "      <td>2020-09-14</td>\n",
       "      <td>18.635</td>\n",
       "      <td>15.335</td>\n",
       "      <td>82.230</td>\n",
       "      <td>11.105</td>\n",
       "      <td>0</td>\n",
       "      <td>0</td>\n",
       "      <td>0.082474</td>\n",
       "      <td>0.92</td>\n",
       "    </tr>\n",
       "    <tr>\n",
       "      <th>14</th>\n",
       "      <td>2020-09-15</td>\n",
       "      <td>12.570</td>\n",
       "      <td>5.295</td>\n",
       "      <td>62.395</td>\n",
       "      <td>12.750</td>\n",
       "      <td>0</td>\n",
       "      <td>0</td>\n",
       "      <td>1.000000</td>\n",
       "      <td>0.00</td>\n",
       "    </tr>\n",
       "    <tr>\n",
       "      <th>15</th>\n",
       "      <td>2020-09-16</td>\n",
       "      <td>13.225</td>\n",
       "      <td>7.055</td>\n",
       "      <td>68.705</td>\n",
       "      <td>13.375</td>\n",
       "      <td>8</td>\n",
       "      <td>0</td>\n",
       "      <td>1.000000</td>\n",
       "      <td>0.00</td>\n",
       "    </tr>\n",
       "    <tr>\n",
       "      <th>16</th>\n",
       "      <td>2020-09-17</td>\n",
       "      <td>18.005</td>\n",
       "      <td>14.695</td>\n",
       "      <td>81.725</td>\n",
       "      <td>17.455</td>\n",
       "      <td>8</td>\n",
       "      <td>0</td>\n",
       "      <td>1.000000</td>\n",
       "      <td>0.00</td>\n",
       "    </tr>\n",
       "    <tr>\n",
       "      <th>17</th>\n",
       "      <td>2020-09-18</td>\n",
       "      <td>14.110</td>\n",
       "      <td>12.930</td>\n",
       "      <td>94.585</td>\n",
       "      <td>9.540</td>\n",
       "      <td>8</td>\n",
       "      <td>0</td>\n",
       "      <td>1.000000</td>\n",
       "      <td>0.00</td>\n",
       "    </tr>\n",
       "    <tr>\n",
       "      <th>18</th>\n",
       "      <td>2020-09-19</td>\n",
       "      <td>11.910</td>\n",
       "      <td>3.545</td>\n",
       "      <td>57.915</td>\n",
       "      <td>16.960</td>\n",
       "      <td>8</td>\n",
       "      <td>0</td>\n",
       "      <td>1.000000</td>\n",
       "      <td>0.00</td>\n",
       "    </tr>\n",
       "    <tr>\n",
       "      <th>19</th>\n",
       "      <td>2020-09-20</td>\n",
       "      <td>10.115</td>\n",
       "      <td>2.090</td>\n",
       "      <td>64.085</td>\n",
       "      <td>12.145</td>\n",
       "      <td>8</td>\n",
       "      <td>0</td>\n",
       "      <td>1.000000</td>\n",
       "      <td>0.00</td>\n",
       "    </tr>\n",
       "    <tr>\n",
       "      <th>20</th>\n",
       "      <td>2020-09-21</td>\n",
       "      <td>10.550</td>\n",
       "      <td>4.450</td>\n",
       "      <td>71.105</td>\n",
       "      <td>10.250</td>\n",
       "      <td>0</td>\n",
       "      <td>0</td>\n",
       "      <td>1.000000</td>\n",
       "      <td>0.00</td>\n",
       "    </tr>\n",
       "    <tr>\n",
       "      <th>21</th>\n",
       "      <td>2020-09-22</td>\n",
       "      <td>10.405</td>\n",
       "      <td>8.400</td>\n",
       "      <td>88.815</td>\n",
       "      <td>21.165</td>\n",
       "      <td>0</td>\n",
       "      <td>0</td>\n",
       "      <td>1.000000</td>\n",
       "      <td>0.00</td>\n",
       "    </tr>\n",
       "    <tr>\n",
       "      <th>22</th>\n",
       "      <td>2020-09-23</td>\n",
       "      <td>14.220</td>\n",
       "      <td>12.270</td>\n",
       "      <td>91.180</td>\n",
       "      <td>23.435</td>\n",
       "      <td>8</td>\n",
       "      <td>0</td>\n",
       "      <td>1.000000</td>\n",
       "      <td>0.00</td>\n",
       "    </tr>\n",
       "    <tr>\n",
       "      <th>23</th>\n",
       "      <td>2020-09-24</td>\n",
       "      <td>16.625</td>\n",
       "      <td>11.310</td>\n",
       "      <td>74.250</td>\n",
       "      <td>14.270</td>\n",
       "      <td>8</td>\n",
       "      <td>0</td>\n",
       "      <td>0.082474</td>\n",
       "      <td>0.92</td>\n",
       "    </tr>\n",
       "    <tr>\n",
       "      <th>24</th>\n",
       "      <td>2020-09-25</td>\n",
       "      <td>14.525</td>\n",
       "      <td>9.215</td>\n",
       "      <td>73.060</td>\n",
       "      <td>8.395</td>\n",
       "      <td>8</td>\n",
       "      <td>0</td>\n",
       "      <td>1.000000</td>\n",
       "      <td>0.00</td>\n",
       "    </tr>\n",
       "    <tr>\n",
       "      <th>25</th>\n",
       "      <td>2020-09-26</td>\n",
       "      <td>13.580</td>\n",
       "      <td>11.290</td>\n",
       "      <td>86.605</td>\n",
       "      <td>9.150</td>\n",
       "      <td>8</td>\n",
       "      <td>0</td>\n",
       "      <td>1.000000</td>\n",
       "      <td>0.00</td>\n",
       "    </tr>\n",
       "    <tr>\n",
       "      <th>26</th>\n",
       "      <td>2020-09-27</td>\n",
       "      <td>17.460</td>\n",
       "      <td>16.550</td>\n",
       "      <td>95.810</td>\n",
       "      <td>11.460</td>\n",
       "      <td>8</td>\n",
       "      <td>1</td>\n",
       "      <td>1.000000</td>\n",
       "      <td>0.00</td>\n",
       "    </tr>\n",
       "    <tr>\n",
       "      <th>27</th>\n",
       "      <td>2020-09-28</td>\n",
       "      <td>19.010</td>\n",
       "      <td>18.830</td>\n",
       "      <td>99.000</td>\n",
       "      <td>13.080</td>\n",
       "      <td>0</td>\n",
       "      <td>0</td>\n",
       "      <td>1.000000</td>\n",
       "      <td>0.00</td>\n",
       "    </tr>\n",
       "    <tr>\n",
       "      <th>28</th>\n",
       "      <td>2020-09-29</td>\n",
       "      <td>20.235</td>\n",
       "      <td>19.800</td>\n",
       "      <td>95.895</td>\n",
       "      <td>12.980</td>\n",
       "      <td>0</td>\n",
       "      <td>0</td>\n",
       "      <td>1.000000</td>\n",
       "      <td>0.00</td>\n",
       "    </tr>\n",
       "    <tr>\n",
       "      <th>29</th>\n",
       "      <td>2020-09-30</td>\n",
       "      <td>19.090</td>\n",
       "      <td>19.060</td>\n",
       "      <td>99.895</td>\n",
       "      <td>19.085</td>\n",
       "      <td>8</td>\n",
       "      <td>0</td>\n",
       "      <td>1.000000</td>\n",
       "      <td>0.00</td>\n",
       "    </tr>\n",
       "  </tbody>\n",
       "</table>\n",
       "</div>"
      ],
      "text/plain": [
       "         Date    Temp  Dew_Point_Temp  Humidity  Wind_Spd  Work Schdule hours  \\\n",
       "0  2020-09-01  14.625           9.145    69.475     6.935                   0   \n",
       "1  2020-09-02  14.315          12.720    90.415     9.705                   8   \n",
       "2  2020-09-03  18.725          18.360    99.345    15.415                   8   \n",
       "3  2020-09-04  20.150          18.970    93.625    11.585                   8   \n",
       "4  2020-09-05  19.030          12.085    66.875     9.750                   8   \n",
       "5  2020-09-06  17.180           9.860    65.455     8.580                   8   \n",
       "6  2020-09-07  15.820          14.645    91.230     8.645                   0   \n",
       "7  2020-09-08  19.535          17.655    88.940     6.790                   0   \n",
       "8  2020-09-09  18.640          17.325    90.605     5.455                   8   \n",
       "9  2020-09-10  20.470          20.360    99.000     6.435                   8   \n",
       "10 2020-09-11  15.415          12.435    84.915    14.855                   8   \n",
       "11 2020-09-12  13.850           8.270    72.670     6.460                   8   \n",
       "12 2020-09-13  15.890          12.515    81.395    10.940                   8   \n",
       "13 2020-09-14  18.635          15.335    82.230    11.105                   0   \n",
       "14 2020-09-15  12.570           5.295    62.395    12.750                   0   \n",
       "15 2020-09-16  13.225           7.055    68.705    13.375                   8   \n",
       "16 2020-09-17  18.005          14.695    81.725    17.455                   8   \n",
       "17 2020-09-18  14.110          12.930    94.585     9.540                   8   \n",
       "18 2020-09-19  11.910           3.545    57.915    16.960                   8   \n",
       "19 2020-09-20  10.115           2.090    64.085    12.145                   8   \n",
       "20 2020-09-21  10.550           4.450    71.105    10.250                   0   \n",
       "21 2020-09-22  10.405           8.400    88.815    21.165                   0   \n",
       "22 2020-09-23  14.220          12.270    91.180    23.435                   8   \n",
       "23 2020-09-24  16.625          11.310    74.250    14.270                   8   \n",
       "24 2020-09-25  14.525           9.215    73.060     8.395                   8   \n",
       "25 2020-09-26  13.580          11.290    86.605     9.150                   8   \n",
       "26 2020-09-27  17.460          16.550    95.810    11.460                   8   \n",
       "27 2020-09-28  19.010          18.830    99.000    13.080                   0   \n",
       "28 2020-09-29  20.235          19.800    95.895    12.980                   0   \n",
       "29 2020-09-30  19.090          19.060    99.895    19.085                   8   \n",
       "\n",
       "    No. of Hours Workout  prob_no_headache  prob_headache  \n",
       "0                      0          1.000000           0.00  \n",
       "1                      1          1.000000           0.00  \n",
       "2                      0          1.000000           0.00  \n",
       "3                      1          1.000000           0.00  \n",
       "4                      0          0.082474           0.92  \n",
       "5                      1          0.082474           0.92  \n",
       "6                      0          1.000000           0.00  \n",
       "7                      0          1.000000           0.00  \n",
       "8                      0          1.000000           0.00  \n",
       "9                      0          1.000000           0.00  \n",
       "10                     0          1.000000           0.00  \n",
       "11                     0          0.118812           0.88  \n",
       "12                     0          1.000000           0.00  \n",
       "13                     0          0.082474           0.92  \n",
       "14                     0          1.000000           0.00  \n",
       "15                     0          1.000000           0.00  \n",
       "16                     0          1.000000           0.00  \n",
       "17                     0          1.000000           0.00  \n",
       "18                     0          1.000000           0.00  \n",
       "19                     0          1.000000           0.00  \n",
       "20                     0          1.000000           0.00  \n",
       "21                     0          1.000000           0.00  \n",
       "22                     0          1.000000           0.00  \n",
       "23                     0          0.082474           0.92  \n",
       "24                     0          1.000000           0.00  \n",
       "25                     0          1.000000           0.00  \n",
       "26                     1          1.000000           0.00  \n",
       "27                     0          1.000000           0.00  \n",
       "28                     0          1.000000           0.00  \n",
       "29                     0          1.000000           0.00  "
      ]
     },
     "execution_count": 166,
     "metadata": {},
     "output_type": "execute_result"
    }
   ],
   "source": [
    "Result_data = pd.read_excel('./Data/prediction_data_journal_weather_2020.xls')\n",
    "Result_data"
   ]
  },
  {
   "cell_type": "code",
   "execution_count": null,
   "metadata": {},
   "outputs": [],
   "source": [
    "data = pd.DataFrame(columns=[\"Date\",\"Headache\"])\n",
    "data[\"Headache\"] = Result_data[\"prob_headache\"]\n",
    "data[\"Date\"] = Result_data[\"Date\"]\n",
    "data['Date']=pd.to_datetime(data['Date']).dt.strftime('%d')\n",
    "data['Date'] = data.to_numeric(data['Date'],errors='coerce')\n",
    "\n",
    "\n",
    "plt.figure(figsize = (12,5))\n",
    "ax = sns.lineplot(x=\"Date\",data = data, hue=\"Headache\")"
   ]
  },
  {
   "cell_type": "markdown",
   "metadata": {},
   "source": [
    "### Model Prediction And Temperature"
   ]
  },
  {
   "cell_type": "code",
   "execution_count": null,
   "metadata": {},
   "outputs": [],
   "source": [
    "data = pd.DataFrame(columns=[\"Date\",\"Headache\",\"Temp\"])\n",
    "Result_data.loc[Result_data.prob_headache > 0.7, 'Headache'] = 1\n",
    "Result_data.loc[Result_data.prob_headache <= 0.7, 'Headache'] = 0\n",
    "data[\"Headache\"] = Result_data[\"Headache\"]\n",
    "data[\"Date\"] = Result_data[\"Date\"]\n",
    "data[\"Temp\"] = Result_data[\"Temp\"]\n",
    "data['Date']=pd.to_datetime(data['Date']).dt.strftime('%d')\n",
    "plt.figure(figsize = (12,5))\n",
    "ax = sns.lineplot(x=\"Date\", y=\"Temp\",data = data,color=\"green\")\n",
    "ax2 = ax.twinx()\n",
    "sns.scatterplot(x=\"Date\", y=\"Headache\",data = data, ax=ax2, hue=\"Headache\")\n",
    "ax.axhline(data[\"Temp\"].mean(), ls='--', color=\"red\")"
   ]
  },
  {
   "cell_type": "markdown",
   "metadata": {},
   "source": [
    "### Model Prediction And Humidity"
   ]
  },
  {
   "cell_type": "code",
   "execution_count": 160,
   "metadata": {},
   "outputs": [
    {
     "data": {
      "text/plain": [
       "<matplotlib.lines.Line2D at 0x7fb978f5e4c0>"
      ]
     },
     "execution_count": 160,
     "metadata": {},
     "output_type": "execute_result"
    },
    {
     "data": {
      "image/png": "[encoded data removed]",
      "text/plain": [
       "<Figure size 864x360 with 2 Axes>"
      ]
     },
     "metadata": {
      "needs_background": "light"
     },
     "output_type": "display_data"
    }
   ],
   "source": [
    "data = pd.DataFrame(columns=[\"Date\",\"Headache\",\"Humidity\"])\n",
    "Result_data.loc[Result_data.prob_headache > 0.7, 'Headache'] = 1\n",
    "Result_data.loc[Result_data.prob_headache <= 0.7, 'Headache'] = 0\n",
    "data[\"Headache\"] = Result_data[\"Headache\"]\n",
    "data[\"Date\"] = Result_data[\"Date\"]\n",
    "data[\"Humidity\"] = Result_data[\"Humidity\"]\n",
    "data['Date']=pd.to_datetime(data['Date']).dt.strftime('%d')\n",
    "plt.figure(figsize = (12,5))\n",
    "ax = sns.lineplot(x=\"Date\", y=\"Humidity\",data = data, color=\"green\")\n",
    "ax2 = ax.twinx()\n",
    "sns.scatterplot(x=\"Date\", y=\"Headache\",data = data, ax=ax2, hue=\"Headache\")\n",
    "ax.axhline(data[\"Humidity\"].mean(), ls='--', color=\"red\")"
   ]
  },
  {
   "cell_type": "markdown",
   "metadata": {},
   "source": [
    "### Model Prediction And Wind Speed"
   ]
  },
  {
   "cell_type": "code",
   "execution_count": 161,
   "metadata": {},
   "outputs": [
    {
     "data": {
      "text/plain": [
       "<matplotlib.lines.Line2D at 0x7fb9994c6b50>"
      ]
     },
     "execution_count": 161,
     "metadata": {},
     "output_type": "execute_result"
    },
    {
     "data": {
      "image/png": "[encoded data removed]",
      "text/plain": [
       "<Figure size 864x360 with 2 Axes>"
      ]
     },
     "metadata": {
      "needs_background": "light"
     },
     "output_type": "display_data"
    }
   ],
   "source": [
    "data = pd.DataFrame(columns=[\"Date\",\"Headache\",\"Wind Speed\"])\n",
    "Result_data.loc[Result_data.prob_headache > 0.7, 'Headache'] = 1\n",
    "Result_data.loc[Result_data.prob_headache <= 0.7, 'Headache'] = 0\n",
    "data[\"Headache\"] = Result_data[\"Headache\"]\n",
    "data[\"Date\"] = Result_data[\"Date\"]\n",
    "data[\"Wind Speed\"] = Result_data[\"Wind_Spd\"]\n",
    "data['Date']=pd.to_datetime(data['Date']).dt.strftime('%d')\n",
    "plt.figure(figsize = (12,5))\n",
    "ax = sns.lineplot(x=\"Date\", y=\"Wind Speed\",data = data, color=\"green\")\n",
    "ax2 = ax.twinx()\n",
    "sns.scatterplot(x=\"Date\", y=\"Headache\",data = data, ax=ax2, hue=\"Headache\")\n",
    "ax.axhline(data[\"Wind Speed\"].mean(), ls='--', color=\"red\")"
   ]
  },
  {
   "cell_type": "markdown",
   "metadata": {},
   "source": [
    "### Model Prediction And Work Schedule Hours"
   ]
  },
  {
   "cell_type": "code",
   "execution_count": 162,
   "metadata": {},
   "outputs": [
    {
     "data": {
      "text/plain": [
       "<matplotlib.lines.Line2D at 0x7fb98c351610>"
      ]
     },
     "execution_count": 162,
     "metadata": {},
     "output_type": "execute_result"
    },
    {
     "data": {
      "image/png": "[encoded data removed]",
      "text/plain": [
       "<Figure size 864x360 with 2 Axes>"
      ]
     },
     "metadata": {
      "needs_background": "light"
     },
     "output_type": "display_data"
    }
   ],
   "source": [
    "data = pd.DataFrame(columns=[\"Date\",\"Headache\",\"Work Schdule hours\"])\n",
    "Result_data.loc[Result_data.prob_headache > 0.7, 'Headache'] = 1\n",
    "Result_data.loc[Result_data.prob_headache <= 0.7, 'Headache'] = 0\n",
    "data[\"Headache\"] = Result_data[\"Headache\"]\n",
    "data[\"Date\"] = Result_data[\"Date\"]\n",
    "data[\"Work Schdule hours\"] = Result_data[\"Work Schdule hours\"]\n",
    "data['Date']=pd.to_datetime(data['Date']).dt.strftime('%d')\n",
    "plt.figure(figsize = (12,5))\n",
    "ax = sns.lineplot(x=\"Date\", y=\"Work Schdule hours\",data = data, color=\"green\")\n",
    "ax2 = ax.twinx()\n",
    "sns.scatterplot(x=\"Date\", y=\"Headache\",data = data, ax=ax2, hue=\"Headache\")\n",
    "ax.axhline(data[\"Work Schdule hours\"].mean(), ls='--', color=\"red\")"
   ]
  },
  {
   "cell_type": "markdown",
   "metadata": {},
   "source": [
    "### Model Prediction And No. of Hours Workout"
   ]
  },
  {
   "cell_type": "code",
   "execution_count": null,
   "metadata": {
    "scrolled": true
   },
   "outputs": [],
   "source": [
    "data = pd.DataFrame(columns=[\"Date\",\"Headache\",\"No. of Hours Workout\"])\n",
    "Result_data.loc[Result_data.prob_headache > 0.7, 'Headache'] = 1\n",
    "Result_data.loc[Result_data.prob_headache <= 0.7, 'Headache'] = 0\n",
    "data[\"Headache\"] = Result_data[\"Headache\"]\n",
    "data[\"Date\"] = Result_data[\"Date\"]\n",
    "data[\"No. of Hours Workout\"] = Result_data[\"No. of Hours Workout\"]\n",
    "data['Date']=pd.to_datetime(data['Date']).dt.strftime('%d')\n",
    "plt.figure(figsize = (12,5))\n",
    "ax = sns.lineplot(x=\"Date\", y=\"No. of Hours Workout\",data = data, color=\"green\")\n",
    "ax2 = ax.twinx()\n",
    "sns.scatterplot(x=\"Date\", y=\"Headache\",data = data, ax=ax2, hue=\"Headache\")\n",
    "ax.axhline(data[\"No. of Hours Workout\"].mean(), ls='--', color=\"red\")"
   ]
  },
  {
   "cell_type": "code",
   "execution_count": null,
   "metadata": {},
   "outputs": [],
   "source": [
    "def prediction_against_factor(factor_name, Result_data): \n",
    "    data = pd.DataFrame(columns=[\"Date\",\"Headache\",factor_name])\n",
    "    Result_data.loc[Result_data.prob_headache > 0.7, 'Headache'] = 1\n",
    "    Result_data.loc[Result_data.prob_headache <= 0.7, 'Headache'] = 0\n",
    "    data[\"Headache\"] = Result_data[\"Headache\"]\n",
    "    data[\"Date\"] = Result_data[\"Date\"]\n",
    "    data[factor_name] = Result_data[factor_name]\n",
    "    data['Date']=pd.to_datetime(data['Date']).dt.strftime('%d')\n",
    "    plt.figure(figsize = (12,5))\n",
    "    ax = sns.lineplot(x=\"Date\", y=factor_name,data = data, color=\"green\")\n",
    "    ax2 = ax.twinx()\n",
    "    sns.scatterplot(x=\"Date\", y=\"Headache\",data = data, ax=ax2, hue=\"Headache\")\n",
    "    ax.axhline(data[factor_name].mean(), ls='--', color=\"red\")"
   ]
  }
 ],
 "metadata": {
  "kernelspec": {
   "display_name": "Python 3",
   "language": "python",
   "name": "python3"
  },
  "language_info": {
   "codemirror_mode": {
    "name": "ipython",
    "version": 3
   },
   "file_extension": ".py",
   "mimetype": "text/x-python",
   "name": "python",
   "nbconvert_exporter": "python",
   "pygments_lexer": "ipython3",
   "version": "3.8.3"
  }
 },
 "nbformat": 4,
 "nbformat_minor": 4
}
